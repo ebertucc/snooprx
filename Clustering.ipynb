{
 "cells": [
  {
   "cell_type": "code",
   "execution_count": 1,
   "metadata": {
    "collapsed": true
   },
   "outputs": [],
   "source": [
    "from drugSite_scrapers3 import drug, review"
   ]
  },
  {
   "cell_type": "code",
   "execution_count": 35,
   "metadata": {
    "collapsed": true
   },
   "outputs": [],
   "source": [
    "import sys, pickle\n",
    "from time import time\n",
    "\n",
    "import pandas as pd \n",
    "from itertools import islice\n",
    "import re\n",
    "# from StringIO import StringIO\n",
    "\n",
    "import numpy as np\n",
    "import matplotlib.pyplot as plt\n",
    "import pylab as pl\n",
    "\n",
    "\n",
    "\n",
    "# from oc_db_fxns import build_oc_station_db, make_arrays, min_max_print, oc_data_2df\n",
    "# from matplotlib.backends.backend_pdf import PdfPages\n",
    "\n",
    "%matplotlib inline"
   ]
  },
  {
   "cell_type": "code",
   "execution_count": null,
   "metadata": {
    "collapsed": true
   },
   "outputs": [],
   "source": [
    "# from sklearn import cluster, datasets, metrics\n",
    "# from sklearn.metrics import euclidean_distances\n",
    "# from sklearn.neighbors import kneighbors_graph\n",
    "# from sklearn.preprocessing import StandardScaler\n",
    "# from oc_clustering_fxns import build_cluster_data, test_clustering\n",
    "\n",
    "from numpy.random import uniform, seed\n",
    "from matplotlib.mlab import griddata\n",
    "# from mpl_toolkits.basemap import shiftgrid\n",
    "from numpy import linspace\n",
    "from numpy import meshgrid\n",
    "from mpl_toolkits.axes_grid1 import make_axes_locatable\n",
    "\n",
    "# from matplotlib.ticker import MaxNLocator\n",
    "# from mpl_toolkits.basemap import Basemap\n",
    "# from mpl_toolkits.axes_grid1 import make_axes_locatable\n",
    "# from mpl_toolkits.axes_grid1.inset_locator import inset_axes"
   ]
  },
  {
   "cell_type": "code",
   "execution_count": null,
   "metadata": {
    "collapsed": true
   },
   "outputs": [],
   "source": [
    "from numpy.random import uniform, seed\n",
    "from matplotlib.mlab import griddata\n",
    "# import matplotlib.pyplot as plt\n",
    "# import numpy as np\n",
    "# from mpl_toolkits.basemap import shiftgrid\n",
    "# from numpy import linspace\n",
    "# from numpy import meshgrid\n",
    "# from mpl_toolkits.axes_grid1 import make_axes_locatable"
   ]
  },
  {
   "cell_type": "code",
   "execution_count": 27,
   "metadata": {
    "collapsed": true
   },
   "outputs": [],
   "source": [
    "from sklearn import cluster, datasets, metrics\n",
    "from sklearn.metrics import euclidean_distances\n",
    "from sklearn.neighbors import kneighbors_graph\n",
    "from sklearn.preprocessing import StandardScaler\n",
    "\n",
    "from sklearn.decomposition import TruncatedSVD\n",
    "from sklearn.feature_extraction.text import TfidfVectorizer\n",
    "from sklearn.feature_extraction.text import HashingVectorizer\n",
    "from sklearn.feature_extraction.text import TfidfTransformer\n",
    "from sklearn.pipeline import make_pipeline\n",
    "from sklearn.preprocessing import Normalizer\n",
    "from sklearn import metrics\n",
    "\n",
    "from sklearn.cluster import KMeans, MiniBatchKMeans\n",
    "# from oc_clustering_fxns import build_cluster_data, test_clustering"
   ]
  },
  {
   "cell_type": "code",
   "execution_count": 89,
   "metadata": {
    "collapsed": true
   },
   "outputs": [],
   "source": [
    "class drug_dataset:\n",
    "    \n",
    "    def __init__(self, _one_drug):\n",
    "        self.data, self.target = self.filter_set_data(_one_drug)\n",
    "#         self.target = self.set_target(_one_drug)\n",
    "        self.target_names = self.set_target_names()\n",
    "        \n",
    "    def set_data(self, _one_drug):\n",
    "        _data = []\n",
    "        for rev in _one_drug.reviews:\n",
    "            _data.append(rev.comment)\n",
    "        return _data\n",
    "           \n",
    "    def set_target(self, _one_drug):\n",
    "        _targets = []\n",
    "        abbrev = 'ddc'\n",
    "        if abbrev == 'ddc':\n",
    "            for rev in _one_drug.reviews:\n",
    "                _targets.append(rev.genRating)\n",
    "        elif _one_drug.abbrev == 'wmd':\n",
    "            for rev in _one_drug.reviews:\n",
    "                _targets.append(rev.satisfaction)\n",
    "        return _targets\n",
    "    \n",
    "    def filter_set_data(self, _one_drug):\n",
    "        temp_data = self.set_data(_one_drug)\n",
    "        temp_targets = self.set_target(_one_drug)\n",
    "        \n",
    "        data = []\n",
    "        targets = []\n",
    "        if len(temp_data) == len(temp_targets):\n",
    "            for ik in range(len(temp_data)):\n",
    "                if temp_targets[ik] != None:\n",
    "                    targets.append(int(temp_targets[ik]))\n",
    "                    data.append(temp_data[ik])\n",
    "        else:\n",
    "            print('help!')\n",
    "        return data, targets\n",
    "        \n",
    "\n",
    "    def set_target_names(self):\n",
    "        return list(set(self.target))\n",
    "            \n",
    "        "
   ]
  },
  {
   "cell_type": "code",
   "execution_count": 3,
   "metadata": {
    "collapsed": true
   },
   "outputs": [],
   "source": [
    "mini_drug_list = pickle.load(open('drug_list_ddc_mini.p', 'rb'))"
   ]
  },
  {
   "cell_type": "code",
   "execution_count": 4,
   "metadata": {
    "collapsed": true
   },
   "outputs": [],
   "source": [
    "one_drug = mini_drug_list[0]"
   ]
  },
  {
   "cell_type": "code",
   "execution_count": 90,
   "metadata": {
    "collapsed": true
   },
   "outputs": [],
   "source": [
    "dataset = drug_dataset(one_drug)"
   ]
  },
  {
   "cell_type": "code",
   "execution_count": 83,
   "metadata": {
    "collapsed": false
   },
   "outputs": [
    {
     "ename": "NameError",
     "evalue": "name 'ik' is not defined",
     "output_type": "error",
     "traceback": [
      "\u001b[1;31m---------------------------------------------------------------------------\u001b[0m",
      "\u001b[1;31mNameError\u001b[0m                                 Traceback (most recent call last)",
      "\u001b[1;32m<ipython-input-83-d8d0286d855b>\u001b[0m in \u001b[0;36m<module>\u001b[1;34m()\u001b[0m\n\u001b[1;32m----> 1\u001b[1;33m \u001b[0mclean\u001b[0m \u001b[1;33m=\u001b[0m \u001b[1;33m[\u001b[0m\u001b[1;33m(\u001b[0m\u001b[0mdataset\u001b[0m\u001b[1;33m.\u001b[0m\u001b[0mtarget\u001b[0m\u001b[1;33m[\u001b[0m\u001b[0mik\u001b[0m\u001b[1;33m]\u001b[0m\u001b[1;33m,\u001b[0m \u001b[0mdataset\u001b[0m\u001b[1;33m.\u001b[0m\u001b[0mdata\u001b[0m\u001b[1;33m[\u001b[0m\u001b[0mik\u001b[0m\u001b[1;33m]\u001b[0m\u001b[1;33m)\u001b[0m \u001b[1;32mfor\u001b[0m \u001b[0mik\u001b[0m \u001b[1;32min\u001b[0m \u001b[0mrange\u001b[0m\u001b[1;33m(\u001b[0m\u001b[0mlen\u001b[0m\u001b[1;33m(\u001b[0m\u001b[0mdataset\u001b[0m\u001b[1;33m.\u001b[0m\u001b[0mtarget\u001b[0m\u001b[1;33m[\u001b[0m\u001b[0mik\u001b[0m\u001b[1;33m]\u001b[0m\u001b[1;33m)\u001b[0m\u001b[1;33m)\u001b[0m \u001b[1;32mif\u001b[0m \u001b[0mdataset\u001b[0m\u001b[1;33m.\u001b[0m\u001b[0mtarget\u001b[0m\u001b[1;33m[\u001b[0m\u001b[0mik\u001b[0m\u001b[1;33m]\u001b[0m \u001b[1;33m!=\u001b[0m \u001b[1;32mNone\u001b[0m\u001b[1;33m]\u001b[0m\u001b[1;33m\u001b[0m\u001b[0m\n\u001b[0m",
      "\u001b[1;31mNameError\u001b[0m: name 'ik' is not defined"
     ]
    }
   ],
   "source": [
    "clean = [(dataset.target[ik], dataset.data[ik]) for ik in range(len(dataset.target[ik])) if dataset.target[ik] != None]"
   ]
  },
  {
   "cell_type": "code",
   "execution_count": 98,
   "metadata": {
    "collapsed": false
   },
   "outputs": [
    {
     "name": "stdout",
     "output_type": "stream",
     "text": [
      "426 documents\n",
      "10 categories\n",
      "\n",
      "<class 'int'>\n"
     ]
    }
   ],
   "source": [
    "print(\"%d documents\" % len(dataset.data))\n",
    "print(\"%d categories\" % len(dataset.target_names))\n",
    "print()\n",
    "\n",
    "labels = dataset.target\n",
    "true_k = list(set(labels))\n",
    "print(type(true_k[-1]))\n",
    "true_k = np.unique(labels).shape[0]"
   ]
  },
  {
   "cell_type": "code",
   "execution_count": 99,
   "metadata": {
    "collapsed": false
   },
   "outputs": [
    {
     "name": "stdout",
     "output_type": "stream",
     "text": [
      "Extracting features from the training dataset using a sparse vectorizer\n"
     ]
    }
   ],
   "source": [
    "print(\"Extracting features from the training dataset using a sparse vectorizer\")\n",
    "t0 = time()\n",
    "vectorizer = TfidfVectorizer(max_df=0.5, max_features=3000,\n",
    "                                 min_df=2, stop_words='english')"
   ]
  },
  {
   "cell_type": "code",
   "execution_count": 100,
   "metadata": {
    "collapsed": true
   },
   "outputs": [],
   "source": [
    "X = vectorizer.fit_transform(dataset.data)"
   ]
  },
  {
   "cell_type": "code",
   "execution_count": 101,
   "metadata": {
    "collapsed": false
   },
   "outputs": [
    {
     "name": "stdout",
     "output_type": "stream",
     "text": [
      "done in 0.810091s\n",
      "n_samples: 426, n_features: 1338\n",
      "\n"
     ]
    }
   ],
   "source": [
    "print(\"done in %fs\" % (time() - t0))\n",
    "print(\"n_samples: %d, n_features: %d\" % X.shape)\n",
    "print()"
   ]
  },
  {
   "cell_type": "code",
   "execution_count": 102,
   "metadata": {
    "collapsed": true
   },
   "outputs": [],
   "source": [
    "n_components = 100"
   ]
  },
  {
   "cell_type": "code",
   "execution_count": 103,
   "metadata": {
    "collapsed": false
   },
   "outputs": [
    {
     "name": "stdout",
     "output_type": "stream",
     "text": [
      "Performing dimensionality reduction using LSA\n",
      "done in 0.200173s\n",
      "Explained variance of the SVD step: 50%\n",
      "\n"
     ]
    }
   ],
   "source": [
    "if n_components:\n",
    "    print(\"Performing dimensionality reduction using LSA\")\n",
    "    t0 = time()\n",
    "    # Vectorizer results are normalized, which makes KMeans behave as\n",
    "    # spherical k-means for better results. Since LSA/SVD results are\n",
    "    # not normalized, we have to redo the normalization.\n",
    "    svd = TruncatedSVD(n_components)\n",
    "    normalizer = Normalizer(copy=False)\n",
    "    lsa = make_pipeline(svd, normalizer)\n",
    "\n",
    "    X = lsa.fit_transform(X)\n",
    "\n",
    "    print(\"done in %fs\" % (time() - t0))\n",
    "\n",
    "    explained_variance = svd.explained_variance_ratio_.sum()\n",
    "    print(\"Explained variance of the SVD step: {}%\".format(\n",
    "        int(explained_variance * 100)))\n",
    "\n",
    "    print()"
   ]
  },
  {
   "cell_type": "code",
   "execution_count": 104,
   "metadata": {
    "collapsed": false
   },
   "outputs": [
    {
     "name": "stdout",
     "output_type": "stream",
     "text": [
      "Clustering sparse data with MiniBatchKMeans(batch_size=1000, compute_labels=True, init='k-means++',\n",
      "        init_size=1000, max_iter=100, max_no_improvement=10, n_clusters=10,\n",
      "        n_init=1, random_state=None, reassignment_ratio=0.01, tol=0.0,\n",
      "        verbose=0)\n",
      "done in 0.035s\n",
      "\n",
      "Homogeneity: 0.064\n",
      "Completeness: 0.059\n",
      "V-measure: 0.062\n",
      "Adjusted Rand-Index: 0.019\n",
      "Silhouette Coefficient: 0.014\n",
      "\n"
     ]
    }
   ],
   "source": [
    "km = MiniBatchKMeans(n_clusters=true_k, init='k-means++', n_init=1,\n",
    "                         init_size=1000, batch_size=1000)#, verbose=opts.verbose)\n",
    "\n",
    "print(\"Clustering sparse data with %s\" % km)\n",
    "t0 = time()\n",
    "km.fit(X)\n",
    "print(\"done in %0.3fs\" % (time() - t0))\n",
    "print()\n",
    "\n",
    "print(\"Homogeneity: %0.3f\" % metrics.homogeneity_score(labels, km.labels_))\n",
    "print(\"Completeness: %0.3f\" % metrics.completeness_score(labels, km.labels_))\n",
    "print(\"V-measure: %0.3f\" % metrics.v_measure_score(labels, km.labels_))\n",
    "print(\"Adjusted Rand-Index: %.3f\"\n",
    "      % metrics.adjusted_rand_score(labels, km.labels_))\n",
    "print(\"Silhouette Coefficient: %0.3f\"\n",
    "      % metrics.silhouette_score(X, km.labels_, sample_size=1000))\n",
    "\n",
    "\n",
    "print()"
   ]
  },
  {
   "cell_type": "code",
   "execution_count": 108,
   "metadata": {
    "collapsed": true
   },
   "outputs": [],
   "source": [
    "if hasattr(km, 'labels_'):\n",
    "                y_pred = km.labels_.astype(np.int)\n",
    "else:\n",
    "                y_pred = km.predict(X)\n",
    "\n",
    "y_true = labels"
   ]
  },
  {
   "cell_type": "code",
   "execution_count": 120,
   "metadata": {
    "collapsed": false
   },
   "outputs": [
    {
     "name": "stdout",
     "output_type": "stream",
     "text": [
      "None\n"
     ]
    }
   ],
   "source": [
    "print([ik for ik in range(10)].remove(2))"
   ]
  },
  {
   "cell_type": "code",
   "execution_count": 124,
   "metadata": {
    "collapsed": true
   },
   "outputs": [],
   "source": [
    "def non_picks(pick_id):\n",
    "    ids = [ik for ik in range(10)]\n",
    "    ids.remove(pick_id)\n",
    "    return ids"
   ]
  },
  {
   "cell_type": "code",
   "execution_count": 183,
   "metadata": {
    "collapsed": false
   },
   "outputs": [
    {
     "name": "stdout",
     "output_type": "stream",
     "text": [
      "{1, 2, 3, 4, 5, 6, 7, 8, 9, 10}\n"
     ]
    }
   ],
   "source": [
    "y_pred = [pred-1 for pred in y_pred]\n",
    "print(set(y_pred))"
   ]
  },
  {
   "cell_type": "code",
   "execution_count": 196,
   "metadata": {
    "collapsed": false
   },
   "outputs": [
    {
     "data": {
      "text/plain": [
       "{1, 2, 3, 4, 5, 6, 7, 8, 9, 10}"
      ]
     },
     "execution_count": 196,
     "metadata": {},
     "output_type": "execute_result"
    }
   ],
   "source": [
    "set(y_true)"
   ]
  },
  {
   "cell_type": "code",
   "execution_count": 235,
   "metadata": {
    "collapsed": true
   },
   "outputs": [],
   "source": [
    "def filter_count_scores(pick, _y_pred, _y_true):\n",
    "    filtered_pred = []\n",
    "    filtered_true = []\n",
    "    for ik, score in enumerate(_y_pred):\n",
    "        if score == pick:\n",
    "            filtered_pred.append(_y_pred[ik])\n",
    "            filtered_true.append(_y_true[ik])\n",
    "            \n",
    "    c = Counter(filtered_true)\n",
    "    counts_ls = []\n",
    "    for ik in np.arange(1,11):\n",
    "        if ik in c.keys():\n",
    "            counts_ls.append(c[ik])\n",
    "        else:\n",
    "            counts_ls.append(0)\n",
    "    return counts_ls"
   ]
  },
  {
   "cell_type": "code",
   "execution_count": 144,
   "metadata": {
    "collapsed": true
   },
   "outputs": [],
   "source": [
    "\n",
    "from collections import Counter\n",
    "\n",
    "def get_counts(preds):\n",
    "    c = Counter(preds)\n",
    "    counts_ls = []\n",
    "    for ik in range(10):\n",
    "        counts_ls.append(c[ik])\n",
    "    return counts_ls\n"
   ]
  },
  {
   "cell_type": "code",
   "execution_count": 199,
   "metadata": {
    "collapsed": false
   },
   "outputs": [
    {
     "data": {
      "text/plain": [
       "dict_keys([6, 8, 3, 2, 9, 5, 1, 7, 0, 4])"
      ]
     },
     "execution_count": 199,
     "metadata": {},
     "output_type": "execute_result"
    }
   ],
   "source": [
    "c.keys()"
   ]
  },
  {
   "cell_type": "code",
   "execution_count": null,
   "metadata": {
    "collapsed": true
   },
   "outputs": [],
   "source": [
    "fig, ax1 = plt.subplots(figsize=figSize, facecolor='w')\n",
    "\n",
    "N = 10\n",
    "men_means = (20, 35, 30, 35, 27)\n",
    "men_std = (2, 3, 4, 1, 2)\n",
    "\n",
    "ind = np.arange(10)  # the x locations for the groups\n",
    "width = 0.15       # the width of the bars\n",
    "\n",
    "rects1 = ax1.bar(ind, men_means, width, color='r', yerr=men_std)\n",
    "\n",
    "women_means = (25, 32, 34, 20, 25)\n",
    "women_std = (3, 5, 2, 3, 3)\n",
    "rects2 = ax.bar(ind + width, women_means, width, color='y', yerr=women_std)"
   ]
  },
  {
   "cell_type": "code",
   "execution_count": 246,
   "metadata": {
    "collapsed": true
   },
   "outputs": [],
   "source": [
    "# x, y, feat_data, basemap, xLab, yLab, latLon_params = amassData(df3_sub, in_var_names, sliceType, depth = Depth)\n",
    "N_CLUSTERS = 10\n",
    "\n",
    "# preds_dict, cluster_fig_SPO = test_clustering2( x, y, feat_data, xLab, yLab, N_CLUSTERS, latLon_params, Map = basemap)"
   ]
  },
  {
   "cell_type": "code",
   "execution_count": 242,
   "metadata": {
    "collapsed": true
   },
   "outputs": [],
   "source": [
    "from sklearn.metrics import silhouette_samples, silhouette_score\n",
    "import matplotlib.cm as cm\n",
    "from matplotlib import gridspec"
   ]
  },
  {
   "cell_type": "code",
   "execution_count": 256,
   "metadata": {
    "collapsed": false
   },
   "outputs": [
    {
     "data": {
      "text/plain": [
       "array([ 0.00822773,  0.02220491,  0.02136581, -0.00818972,  0.00147621,\n",
       "       -0.00851373,  0.00781686, -0.00790309,  0.01797667, -0.00651593,\n",
       "        0.03163023, -0.00781905,  0.0129124 , -0.01461684, -0.00196482,\n",
       "        0.00521795,  0.03969464,  0.08520441,  0.0237253 ,  0.01380322,\n",
       "        0.01242661, -0.00795691,  0.00375767,  0.00470757,  0.00569038,\n",
       "        0.00385821, -0.00228763, -0.00597313,  0.01509909,  0.01472551,\n",
       "        0.01118604, -0.00415795,  0.0207867 , -0.00310756, -0.01758801,\n",
       "        0.0173012 ,  0.01560504,  0.03159307,  0.00084293, -0.00505805,\n",
       "        0.00390862, -0.00816501, -0.00905926, -0.0074505 ,  0.01642008,\n",
       "        0.00699829,  0.00791742, -0.00436861,  0.01126201,  0.01905268])"
      ]
     },
     "execution_count": 256,
     "metadata": {},
     "output_type": "execute_result"
    }
   ],
   "source": [
    "ith_cluster_silhouette_values = sample_silhouette_values[np.array(y_pred) == 1]\n",
    "ith_cluster_silhouette_values"
   ]
  },
  {
   "cell_type": "code",
   "execution_count": 270,
   "metadata": {
    "collapsed": false
   },
   "outputs": [
    {
     "data": {
      "text/plain": [
       "[None,\n",
       " None,\n",
       " None,\n",
       " None,\n",
       " None,\n",
       " None,\n",
       " None,\n",
       " None,\n",
       " None,\n",
       " None,\n",
       " None,\n",
       " None,\n",
       " None,\n",
       " None,\n",
       " None,\n",
       " None,\n",
       " None,\n",
       " None,\n",
       " None,\n",
       " None]"
      ]
     },
     "execution_count": 270,
     "metadata": {},
     "output_type": "execute_result"
    },
    {
     "data": {
      "image/png": "[encoded data removed]",
      "text/plain": [
       "<matplotlib.figure.Figure at 0x17faf8b0>"
      ]
     },
     "metadata": {},
     "output_type": "display_data"
    }
   ],
   "source": [
    "figSize = (16, 7)\n",
    "title_sz = 27\n",
    "axis_sz = 20\n",
    "tick_sz = 18\n",
    "fig, (ax1, ax2) = plt.subplots(nrows=1, ncols=2, figsize=figSize, facecolor='w')\n",
    "gs = gridspec.GridSpec(1, 2, width_ratios=[3, 1])\n",
    "\n",
    "score = metrics.silhouette_score(X, y_pred, metric='euclidean')\n",
    "\n",
    "ax2 = plt.subplot(gs[1])\n",
    "ax2.set_xlim([-0.1, .2])\n",
    "# The (n_clusters+1)*10 is for inserting blank space between silhouette\n",
    "# plots of individual clusters, to demarcate them clearly.\n",
    "ax2.set_ylim([0, len(X) + (N_CLUSTERS + 1) * 10])\n",
    "\n",
    "# Compute the silhouette scores for each sample\n",
    "sample_silhouette_values = silhouette_samples(X, y_pred)\n",
    "\n",
    "y_lower = 10\n",
    "y_pred = np.array(y_pred)\n",
    "\n",
    "for i in range(1,1+N_CLUSTERS):\n",
    "    # Aggregate the silhouette scores for samples belonging to\n",
    "    # cluster i, and sort them\n",
    "    ith_cluster_silhouette_values = sample_silhouette_values[y_pred == i]\n",
    "\n",
    "    ith_cluster_silhouette_values.sort()\n",
    "\n",
    "    size_cluster_i = ith_cluster_silhouette_values.shape[0]\n",
    "    y_upper = y_lower + size_cluster_i\n",
    "\n",
    "    color = cm.spectral(float(i) / N_CLUSTERS)\n",
    "    ax2.fill_betweenx(np.arange(y_lower, y_upper),\n",
    "                      0, ith_cluster_silhouette_values,\n",
    "                      facecolor=color, edgecolor=color, alpha=0.7)\n",
    "\n",
    "    # Label the silhouette plots with their cluster numbers at the middle\n",
    "    ax2.text(-0.07, y_lower + 0.45 * size_cluster_i, str(i), size=axis_sz)\n",
    "\n",
    "    # Compute the new y_lower for next plot\n",
    "    y_lower = y_upper + 10  # 10 for the 0 samples\n",
    "\n",
    "ax2.text(.87, .90,'avg.=\\n'+ '%.2f' % score, size=tick_sz, transform=plt.gca().transAxes,\n",
    "    horizontalalignment='center')\n",
    "\n",
    "#ax2.set_title(\"The silhouette plot for the various clusters.\")\n",
    "ax2.set_xlabel(\"Silhouette Coefficient\", fontsize=axis_sz)\n",
    "ax2.set_ylabel(\"Cluster label\",fontsize=axis_sz)\n",
    "\n",
    "# The vertical line for average silhoutte score of all the values\n",
    "ax2.axvline(x=score, color=\"red\", linestyle=\"--\", linewidth=3)\n",
    "\n",
    "ax2.set_yticks([])  # Clear the yaxis labels / ticks\n",
    "#ax2.set_xticks([ 0, .3, .6, .9])\n",
    "\n",
    "xtickNames = ax2.get_xticklabels()\n",
    "ytickNames = ax2.get_yticklabels()\n",
    "\n",
    "plt.setp(ytickNames, rotation=0, fontsize=tick_sz)\n",
    "plt.setp(xtickNames, rotation=0, fontsize=tick_sz)\n",
    "\n",
    "\n",
    "ax1 = plt.subplot(gs[0])\n",
    "N = 10\n",
    "ind = np.arange(1,11)  # the x locations for the groups\n",
    "width = 0.08       # the width of the bars\n",
    "colors = ['firebrick', 'red', 'gold', 'olivedrab', 'seagreen', 'lightseagreen', 'deepskyblue', 'slategray', 'navy', 'mediumpurple']\n",
    "\n",
    "for score in np.arange(1,11):\n",
    "    cts = filter_count_scores(score, y_pred, y_true)\n",
    "    rects = ax1.bar((ind-5*width)+(score-1)*width, cts, width, color=colors[score-1])\n",
    "\n",
    "plt.xticks([ik-.15*5 for ik in np.arange(1,11)],  np.arange(1,11), rotation='vertical')\n",
    "plt.xticks([ik for ik in np.arange(1,11)], np.arange(1,11), rotation='vertical')\n",
    "\n",
    "ax1.set_xlabel('Predicted score', fontsize=axis_sz)\n",
    "ax1.set_ylabel('Counts', fontsize=axis_sz)\n",
    "\n",
    "plt.title('Groups of predicted score; Columns of actual score', fontsize=axis_sz) \n",
    "\n",
    "xtickNames = ax1.get_xticklabels()\n",
    "ytickNames = ax1.get_yticklabels()\n",
    "\n",
    "plt.setp(ytickNames, rotation=0, fontsize=tick_sz)\n",
    "plt.setp(xtickNames, rotation=0, fontsize=tick_sz)"
   ]
  },
  {
   "cell_type": "code",
   "execution_count": 262,
   "metadata": {
    "collapsed": false
   },
   "outputs": [
    {
     "data": {
      "text/plain": [
       "Text(0.5,1,'groups of predicted score, columns of actual score')"
      ]
     },
     "execution_count": 262,
     "metadata": {},
     "output_type": "execute_result"
    },
    {
     "data": {
      "image/png": "[encoded data removed]",
      "text/plain": [
       "<matplotlib.figure.Figure at 0x17b3a350>"
      ]
     },
     "metadata": {},
     "output_type": "display_data"
    }
   ],
   "source": [
    "\n",
    "# fig, ax1 = plt.subplots(figsize = (22, 4), facecolor='w')\n",
    "\n",
    "ax1 = plt.subplot(gs[0])\n",
    "N = 10\n",
    "ind = np.arange(1,11)  # the x locations for the groups\n",
    "width = 0.08       # the width of the bars\n",
    "colors = ['firebrick', 'red', 'gold', 'olivedrab', 'seagreen', 'lightseagreen', 'deepskyblue', 'slategray', 'navy', 'mediumpurple']\n",
    "\n",
    "for score in np.arange(1,11):\n",
    "    cts = filter_count_scores(score, y_pred, y_true)\n",
    "    rects = ax1.bar((ind-5*width)+(score-1)*width, cts, width, color=colors[score-1])\n",
    "\n",
    "plt.xticks([ik-.15*5 for ik in np.arange(1,11)],  np.arange(1,11), rotation='vertical')\n",
    "plt.xticks([ik for ik in np.arange(1,11)], np.arange(1,11), rotation='vertical')\n",
    "\n",
    "ax1.set_xlabel('predicted score', fontsize=14)\n",
    "plt.title('groups of predicted score, columns of actual score', fontsize=18)      # ncol=4,  borderaxespad=0.,prop={'size':14-2})\n"
   ]
  },
  {
   "cell_type": "code",
   "execution_count": null,
   "metadata": {
    "collapsed": true
   },
   "outputs": [],
   "source": [
    "#with silhouette plot\n",
    "\n",
    "from sklearn.metrics import silhouette_samples, silhouette_score\n",
    "import matplotlib.cm as cm\n",
    "from matplotlib import gridspec\n",
    "\n",
    "def test_clustering_wSil(_x, _y, _data, _xLab, _yLab, N_CLUSTERS, _latLon_params, **kwargs):\n",
    "    pred_dict = {}\n",
    "    np.random.seed(0)\n",
    "\n",
    "    colors = np.array([x for x in 'bgrcmykbgrcmykbgrcmykbgrcmyk'])\n",
    "    colors = np.hstack([colors] * 20)\n",
    "    \n",
    "    plot_num = 1\n",
    "    for i_dataset, dataset in enumerate([_data]):\n",
    "        X = dataset\n",
    "        # normalize dataset for easier parameter selection\n",
    "        X = StandardScaler().fit_transform(X)\n",
    "\n",
    "        # estimate bandwidth for mean shift\n",
    "        bandwidth = cluster.estimate_bandwidth(X, quantile=0.3)\n",
    "\n",
    "        # connectivity matrix for structured Ward\n",
    "        connectivity = kneighbors_graph(X, n_neighbors=10)\n",
    "        # make connectivity symmetric\n",
    "        connectivity = 0.5 * (connectivity + connectivity.T)\n",
    "\n",
    "        # Compute distances\n",
    "        distances = euclidean_distances(X)\n",
    "\n",
    "        # create clustering estimators\n",
    "        ms = cluster.MeanShift(bandwidth=bandwidth, bin_seeding=True)\n",
    "        two_means = cluster.MiniBatchKMeans(n_clusters=N_CLUSTERS)\n",
    "        ward = cluster.AgglomerativeClustering(n_clusters=N_CLUSTERS,\n",
    "                        linkage='ward', connectivity=connectivity)\n",
    "        spectral = cluster.SpectralClustering(n_clusters=N_CLUSTERS,\n",
    "                                              eigen_solver='arpack',\n",
    "                                              affinity=\"nearest_neighbors\")\n",
    "        dbscan = cluster.DBSCAN(eps=.2)\n",
    "        affinity_propagation = cluster.AffinityPropagation(damping=.9,\n",
    "                                                           preference=-200)\n",
    "\n",
    "        average_linkage = cluster.AgglomerativeClustering(linkage=\"average\",\n",
    "                                affinity=\"cityblock\", n_clusters=N_CLUSTERS,\n",
    "                                connectivity=connectivity)\n",
    "        #brc = cluster.Birch(threshold = .5, branching_factor = 50, n_clusters = N_CLUSTERS)\n",
    "        \n",
    "        alg_list = [('MiniBatchKMeans', two_means)]#,\n",
    "                    #('Birch', brc)]\n",
    "                    #('DBSCAN', dbscan),\n",
    "                    #('AffinityPropagation', affinity_propagation)]\n",
    "                    #('MeanShift', ms)]\n",
    "                    #,\n",
    "                    #('SpectralClustering', spectral),\n",
    "                    #('Ward', ward)]:\n",
    "                    #('AgglomerativeClustering', average_linkage),\n",
    "                    #('DBSCAN', dbscan)\n",
    "                    #]:\n",
    "        if kwargs['Map']:\n",
    "            figSize = (14, 10)\n",
    "        else:\n",
    "            figSize = (16, 7)\n",
    "        fig, (ax1, ax2) = plt.subplots(nrows=len(alg_list), ncols=2, figsize=figSize, facecolor='w')\n",
    "        gs = gridspec.GridSpec(1, 2, width_ratios=[3, 1])\n",
    "        for name, algorithm in alg_list:\n",
    "            # predict cluster memberships\n",
    "            t0 = time.time()\n",
    "            algorithm.fit(X)\n",
    "            t1 = time.time()\n",
    "            if hasattr(algorithm, 'labels_'):\n",
    "                y_pred = algorithm.labels_.astype(np.int)\n",
    "            else:\n",
    "                y_pred = algorithm.predict(X)\n",
    "\n",
    "            score = metrics.silhouette_score(X, y_pred, metric='euclidean')\n",
    "            \n",
    "            ax2 = plt.subplot(gs[1])\n",
    "            ax2.set_xlim([-0.1, 1])\n",
    "            # The (n_clusters+1)*10 is for inserting blank space between silhouette\n",
    "            # plots of individual clusters, to demarcate them clearly.\n",
    "            ax2.set_ylim([0, len(X) + (N_CLUSTERS + 1) * 10])\n",
    "\n",
    "            # Compute the silhouette scores for each sample\n",
    "            sample_silhouette_values = silhouette_samples(X, y_pred)\n",
    "\n",
    "            y_lower = 10\n",
    "            for i in range(N_CLUSTERS):\n",
    "                # Aggregate the silhouette scores for samples belonging to\n",
    "                # cluster i, and sort them\n",
    "                ith_cluster_silhouette_values = \\\n",
    "                    sample_silhouette_values[y_pred == i]\n",
    "\n",
    "                ith_cluster_silhouette_values.sort()\n",
    "\n",
    "                size_cluster_i = ith_cluster_silhouette_values.shape[0]\n",
    "                y_upper = y_lower + size_cluster_i\n",
    "\n",
    "                color = cm.spectral(float(i) / N_CLUSTERS)\n",
    "                ax2.fill_betweenx(np.arange(y_lower, y_upper),\n",
    "                                  0, ith_cluster_silhouette_values,\n",
    "                                  facecolor=color, edgecolor=color, alpha=0.7)\n",
    "\n",
    "                # Label the silhouette plots with their cluster numbers at the middle\n",
    "                ax2.text(-0.07, y_lower + 0.45 * size_cluster_i, str(i), size=axis_sz)\n",
    "\n",
    "                # Compute the new y_lower for next plot\n",
    "                y_lower = y_upper + 10  # 10 for the 0 samples\n",
    "            \n",
    "            ax2.text(.87, .90,'avg.=\\n'+ '%.2f' % score, size=tick_sz, transform=plt.gca().transAxes,\n",
    "                horizontalalignment='center')\n",
    "            \n",
    "            #ax2.set_title(\"The silhouette plot for the various clusters.\")\n",
    "            ax2.set_xlabel(\"Silhouette Coefficient\", fontsize=axis_sz)\n",
    "            ax2.set_ylabel(\"Cluster label\",fontsize=axis_sz)\n",
    "\n",
    "            # The vertical line for average silhoutte score of all the values\n",
    "            ax2.axvline(x=score, color=\"red\", linestyle=\"--\", linewidth=3)\n",
    "\n",
    "            ax2.set_yticks([])  # Clear the yaxis labels / ticks\n",
    "            ax2.set_xticks([ 0, .3, .6, .9])\n",
    "\n",
    "            xtickNames = ax2.get_xticklabels()\n",
    "            ytickNames = ax2.get_yticklabels()\n",
    "\n",
    "            plt.setp(ytickNames, rotation=0, fontsize=tick_sz)\n",
    "            plt.setp(xtickNames, rotation=0, fontsize=tick_sz)\n",
    "            \n",
    "            # plot\n",
    "            _colors = cm.spectral(y_pred.astype(float) / N_CLUSTERS)\n",
    "            #_colors = colors[y_pred].tolist()\n",
    "            #color_preds = [_colors[ik]+'o' for ik in xrange(len(_colors))]\n",
    "            \n",
    "            if kwargs['Map']:\n",
    "                ax1 = plt.subplot(gs[0])\n",
    "                #ax1 = plt.subplot(1, len(alg_list), 1)\n",
    "                \n",
    "                _basemap = kwargs['Map']\n",
    "                _basemap.ax = ax1\n",
    "                _basemap.drawcoastlines(color='k')\n",
    "                _basemap.drawcountries()\n",
    "                _basemap.fillcontinents(lake_color='b',color = 'gray')\n",
    "                _basemap.drawmapboundary(linewidth=3)\n",
    "                _basemap.drawmeridians(np.arange(0, 360, 30))\n",
    "                _basemap.drawparallels(np.arange(-90, 90, 30))\n",
    "\n",
    "                x,y = _basemap(_x, _y)\n",
    "                #for im in xrange(len(x)):\n",
    "                #    _basemap.plot(x[im], y[im], color = _colors[im], marker = 'o', markersize=5, alpha = .3)    \n",
    "                _basemap.scatter(x, y, c = _colors, marker = 'o', s=30, alpha = .2)\n",
    "                #pred_dict[name] = [_x, _y, colors[y_pred].tolist()] \n",
    "                #x_tics_loc = \n",
    "                #ax1.set_xticks([-30, 0, 30, 60])\n",
    "                #ax1.set_yticks([-60, -30, 0, 30])\n",
    "                \n",
    "            # build plot here of as per discussion on Saturday\n",
    "            else:\n",
    "                \n",
    "#                 fig, ax1 = plt.subplots(figsize = (22, 4), facecolor='w')\n",
    "\n",
    "                N = 10\n",
    "                ind = np.arange(1,11)  # the x locations for the groups\n",
    "                width = 0.08       # the width of the bars\n",
    "                colors = ['firebrick', 'red', 'gold', 'olivedrab', 'seagreen', 'lightseagreen', 'deepskyblue', 'slategray', 'navy', 'mediumpurple']\n",
    "\n",
    "                for score in np.arange(1,11):\n",
    "                    cts = filter_count_scores(score, y_pred, y_true)\n",
    "                    rects = ax1.bar((ind-5*width)+(score-1)*width, cts, width, color=colors[score-1])\n",
    "\n",
    "                plt.xticks([ik-.15*5 for ik in np.arange(1,11)],  np.arange(1,11), rotation='vertical')\n",
    "                plt.xticks([ik for ik in np.arange(1,11)], np.arange(1,11), rotation='vertical')\n",
    "\n",
    "                ax1.set_xlabel('predicted score', fontsize=14)\n",
    "                plt.title('groups of predicted score, columns of actual score', fontsize=18) \n",
    "                \n",
    "                \n",
    "                ax1.set_xlim(min(_x), max(_x))\n",
    "                ax1.set_ylim(min(_y)-100, max(_y)+200)\n",
    "#                 ax1.invert_yaxis()\n",
    "                \n",
    "#                 axin = inset_axes(ax1, width=\"35%\", height=\"35%\", loc=4)\n",
    "#                 inmap = Basemap(projection='ortho', lon_0=np.mean(_latLon_params[0]), lat_0=0,\n",
    "#                     ax=axin, anchor='NE')\n",
    "#                 inmap.fillcontinents()\n",
    "#                 inmap.drawcoastlines(color='k')\n",
    "#                 inmap.plot(_latLon_params[0], _latLon_params[1], '-k', linewidth=2 , latlon=True)  \n",
    "\n",
    "                # set tick size\n",
    "                xtickNames = ax1.get_xticklabels()\n",
    "                ytickNames = ax1.get_yticklabels()\n",
    "\n",
    "                plt.setp(ytickNames, rotation=0, fontsize=tick_sz)\n",
    "                plt.setp(xtickNames, rotation=0, fontsize=tick_sz)\n",
    "                \n",
    "            # label axes    \n",
    "            ax1.set_ylabel(_yLab, fontsize=axis_sz)\n",
    "            ax1.set_xlabel(_xLab, fontsize=axis_sz)\n",
    "            \n",
    "            # title with model name and score\n",
    "            if i_dataset == 0:\n",
    "                ax1.set_title(name, size=title_sz)\n",
    "            \n",
    "            # algorithm fit time in bottome right corner\n",
    "            ax1.text(.99, .01,('%.2fs' % (t1 - t0)).lstrip('0'), transform=plt.gca().transAxes, size=12,\n",
    "                horizontalalignment='right')\n",
    "            \n",
    "            plot_num += 1   \n",
    "            \n",
    "    plt.tight_layout(pad=0.4, w_pad=1., h_pad=1.)    \n",
    "    plt.show()\n",
    "    return pred_dict, fig    \n"
   ]
  }
 ],
 "metadata": {
  "kernelspec": {
   "display_name": "Python 3",
   "language": "python",
   "name": "python3"
  },
  "language_info": {
   "codemirror_mode": {
    "name": "ipython",
    "version": 3
   },
   "file_extension": ".py",
   "mimetype": "text/x-python",
   "name": "python",
   "nbconvert_exporter": "python",
   "pygments_lexer": "ipython3",
   "version": "3.6.1"
  }
 },
 "nbformat": 4,
 "nbformat_minor": 2
}
