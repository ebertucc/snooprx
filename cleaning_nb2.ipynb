{
 "cells": [
  {
   "cell_type": "code",
   "execution_count": 1,
   "metadata": {
    "collapsed": true
   },
   "outputs": [],
   "source": [
    "import pickle\n",
    "import spell\n",
    "import emoji\n",
    "import string\n",
    "import re"
   ]
  },
  {
   "cell_type": "code",
   "execution_count": 2,
   "metadata": {
    "collapsed": true
   },
   "outputs": [],
   "source": [
    "from enchant.checker import SpellChecker\n",
    "from enchant.tokenize import EmailFilter, URLFilter\n",
    "import enchant\n",
    "import string\n",
    "\n",
    "import nltk\n",
    "\n",
    "import ftfy\n",
    "from collections import Counter"
   ]
  },
  {
   "cell_type": "code",
   "execution_count": 3,
   "metadata": {
    "collapsed": true
   },
   "outputs": [],
   "source": [
    "from cleaning_refs import med_dur_conversion as med_dur_conversion\n",
    "from cleaning_refs import cList as cList\n",
    "from cleaning_refs import new_words as new_words"
   ]
  },
  {
   "cell_type": "code",
   "execution_count": 4,
   "metadata": {
    "collapsed": true
   },
   "outputs": [],
   "source": [
    "def load_pickle(_pickle_name):\n",
    "    return pickle.load( open( _pickle_name, \"rb\" ) )"
   ]
  },
  {
   "cell_type": "code",
   "execution_count": 5,
   "metadata": {
    "collapsed": true
   },
   "outputs": [],
   "source": [
    "# c_re = re.compile('(%s)' % '|'.join(cList.keys()))\n",
    "\n",
    "def expandContractions(text):#, c_re=c_re):\n",
    "    c_re = re.compile('(%s)' % '|'.join(cList.keys()))\n",
    "    def replace(match):\n",
    "        return cList[match.group(0)]\n",
    "    return c_re.sub(replace, text)"
   ]
  },
  {
   "cell_type": "code",
   "execution_count": 6,
   "metadata": {
    "collapsed": true
   },
   "outputs": [],
   "source": [
    "def extract_emojis(str):\n",
    "    return ''.join(c for c in str if c in emoji.UNICODE_EMOJI)"
   ]
  },
  {
   "cell_type": "code",
   "execution_count": 7,
   "metadata": {
    "collapsed": true
   },
   "outputs": [],
   "source": [
    "#method of review?\n",
    "def metaData_clean(_reviews):\n",
    "    for _review in _reviews:\n",
    "        # fix ageRange to interval\n",
    "        try:\n",
    "            temp_ar = _review.ageRange.split('-')\n",
    "            _review.ageRange = [int(temp_ar[0]), int(temp_ar[1])]\n",
    "        except:\n",
    "            if type(_review.ageRange) != type([]):\n",
    "#                 print('age range', _review['ageRange'])\n",
    "                continue\n",
    "\n",
    "        # fix medDuration to interval of months **[, ) interval\n",
    "        try:\n",
    "#             _review.medDuration_int']= str(med_dur_conversion[_review['medDuration']])\n",
    "            _review.medDuration= med_dur_conversion[_review.medDuration]\n",
    "        except:\n",
    "            if type(_review.medDuration) != type([]):\n",
    "#                 print('wait, what?', _review['medDuration'])\n",
    "                continue\n",
    "\n",
    "        for value in [_review.effectiveness, _review.ease_of_use, _review.satisfaction, _review.genRating, _review.upVotes]:\n",
    "            try:\n",
    "                _review[value] = int(_review[value])\n",
    "            except:\n",
    "                continue  \n",
    "\n",
    "                \n",
    "        #pull out contractions\n",
    "        comment_text = (_review.comment).split()\n",
    "        for word in comment_text:\n",
    "#             print(extract_emojis(word))\n",
    "            word = expandContractions(word, c_re=c_re)\n",
    "        _review.comment = ' '.join(comment_text)\n",
    "        \n",
    "        #remove punctuation\n",
    "        remove = string.punctuation\n",
    "        remove = remove.replace(\"-\", \"\") # don't remove hyphens\n",
    "        pattern = r\"[{}]\".format(remove) \n",
    "        _review.comment = re.sub(pattern, \"\",  _review.comment) \n",
    "        \n",
    "    return _reviews"
   ]
  },
  {
   "cell_type": "code",
   "execution_count": 8,
   "metadata": {
    "collapsed": true
   },
   "outputs": [],
   "source": [
    "d2 = enchant.DictWithPWL(\"en_US\",\"new_words.txt\")\n",
    "chkr = SpellChecker(\"en_US\", filters=[EmailFilter,URLFilter])\n",
    "\n",
    "def spellchecker(reviews):\n",
    "    for ik, review in enumerate(reviews):\n",
    "    #         print ('-------------')\n",
    "    #         print (review['comment'])\n",
    "    #         print(ftfy.fix_text(review['comment'])#['review'])\n",
    "    #         words = [word.lower() for word in words]\n",
    "            chkr.set_text(review.comment)\n",
    "            for err in chkr:\n",
    "                error = (err.word).lower()\n",
    "                options = [change.lower() for change in d2.suggest(error)]\n",
    "                if error in options:\n",
    "                    continue\n",
    "                else:\n",
    "                    catch = 'no'\n",
    "                    word_to_beat = options[0]\n",
    "                    score_to_beat = 10\n",
    "                    for word in options:\n",
    "                        dist = nltk.edit_distance(error, word)\n",
    "                        if (word in new_words):# and (nltk.edit_distance(error, word)<score_to_beat):\n",
    "                            if (nltk.edit_distance(error, word)<=score_to_beat):\n",
    "                                word_to_beat = word\n",
    "                                score_to_beat = nltk.edit_distance(error, word)\n",
    "                                catch = 'yes'\n",
    "                        elif dist<score_to_beat:\n",
    "                            word_to_beat = word\n",
    "                            score_to_beat = nltk.edit_distance(error, word)\n",
    "                    print('final option:', error, word_to_beat, score_to_beat)"
   ]
  },
  {
   "cell_type": "code",
   "execution_count": 14,
   "metadata": {
    "collapsed": true
   },
   "outputs": [],
   "source": [
    "pickle_name = \"drug_list_ddc.p\""
   ]
  },
  {
   "cell_type": "code",
   "execution_count": 15,
   "metadata": {
    "collapsed": true
   },
   "outputs": [],
   "source": [
    "from drugSite_scrapers import drug, review\n",
    "drug_list = load_pickle(pickle_name)\n",
    "print(pickle_name)"
   ]
  },
  {
   "cell_type": "code",
   "execution_count": 11,
   "metadata": {
    "collapsed": false
   },
   "outputs": [
    {
     "data": {
      "text/plain": [
       "{'generic': 'Escitalopram Oxalate',\n",
       " 'name': 'Lexapro',\n",
       " 'num_rev': defaultdict(int, {'wmd': 4088}),\n",
       " 'num_rev_pages': defaultdict(int, {'wmd': 818}),\n",
       " 'reviews': defaultdict(list,\n",
       "             {'wmd': [<drugSite_scrapers.review at 0x782b370>,\n",
       "               <drugSite_scrapers.review at 0x782b3f0>,\n",
       "               <drugSite_scrapers.review at 0x782b490>,\n",
       "               <drugSite_scrapers.review at 0x782b530>,\n",
       "               <drugSite_scrapers.review at 0x782b5d0>]}),\n",
       " 'score': defaultdict(int, {}),\n",
       " 'url_drug': defaultdict(str,\n",
       "             {'wmd': 'http://www.webmd.com/drugs/2/drug-63990-2095/lexapro/details'}),\n",
       " 'url_drug_revs': defaultdict(str,\n",
       "             {'wmd': 'http://www.webmd.com/drugs/drugreview-63990-lexapro.aspx?drugid=63990&amp;drugname=lexapro'})}"
      ]
     },
     "execution_count": 11,
     "metadata": {},
     "output_type": "execute_result"
    }
   ],
   "source": [
    "drug_list[1].__dict__"
   ]
  },
  {
   "cell_type": "code",
   "execution_count": 16,
   "metadata": {
    "collapsed": false
   },
   "outputs": [
    {
     "data": {
      "text/plain": [
       "25"
      ]
     },
     "execution_count": 16,
     "metadata": {},
     "output_type": "execute_result"
    }
   ],
   "source": [
    "len(drug_list[0].reviews['ddc'])#[0].comment"
   ]
  },
  {
   "cell_type": "code",
   "execution_count": null,
   "metadata": {
    "collapsed": true
   },
   "outputs": [],
   "source": [
    "print(pickle_name)\n",
    "for drug in drug_list:\n",
    "    reviews = drug\n",
    "reviews = metaData_clean(reviews)"
   ]
  }
 ],
 "metadata": {
  "kernelspec": {
   "display_name": "Python 3",
   "language": "python",
   "name": "python3"
  },
  "language_info": {
   "codemirror_mode": {
    "name": "ipython",
    "version": 3
   },
   "file_extension": ".py",
   "mimetype": "text/x-python",
   "name": "python",
   "nbconvert_exporter": "python",
   "pygments_lexer": "ipython3",
   "version": "3.6.1"
  }
 },
 "nbformat": 4,
 "nbformat_minor": 2
}
