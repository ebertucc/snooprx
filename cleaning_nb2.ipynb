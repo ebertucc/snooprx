{
 "cells": [
  {
   "cell_type": "markdown",
   "metadata": {},
   "source": [
    "## Text cleaning and spell checking"
   ]
  },
  {
   "cell_type": "markdown",
   "metadata": {},
   "source": [
    "This notebook contains beginning efforts for spell checking. Formatting (conversion to integers etc.) has been moved to scraping methods."
   ]
  },
  {
   "cell_type": "code",
   "execution_count": 1,
   "metadata": {
    "collapsed": true
   },
   "outputs": [],
   "source": [
    "import pickle, string, re\n",
    "import spell"
   ]
  },
  {
   "cell_type": "code",
   "execution_count": 2,
   "metadata": {
    "collapsed": true
   },
   "outputs": [],
   "source": [
    "from enchant.checker import SpellChecker\n",
    "from enchant.tokenize import EmailFilter, URLFilter\n",
    "import enchant\n",
    "\n",
    "import nltk\n",
    "\n",
    "import ftfy\n",
    "from collections import Counter"
   ]
  },
  {
   "cell_type": "code",
   "execution_count": null,
   "metadata": {
    "collapsed": true
   },
   "outputs": [],
   "source": [
    "from drug_objects import drug, review"
   ]
  },
  {
   "cell_type": "code",
   "execution_count": 3,
   "metadata": {
    "collapsed": true
   },
   "outputs": [],
   "source": [
    "from cleaning_refs import med_dur_conversion as med_dur_conversion\n",
    "from cleaning_refs import cList as cList\n",
    "new_words = open(\"new_words.txt\", \"rb\").readlines()\n",
    "from cleaning_refs import new_words as new_words"
   ]
  },
  {
   "cell_type": "code",
   "execution_count": 4,
   "metadata": {
    "collapsed": true
   },
   "outputs": [],
   "source": [
    "def load_pickle(_pickle_name):\n",
    "    return pickle.load( open( _pickle_name, \"rb\" ) )"
   ]
  },
  {
   "cell_type": "code",
   "execution_count": 5,
   "metadata": {
    "collapsed": true
   },
   "outputs": [],
   "source": [
    "inverse_cList = {}\n",
    "for word in cList:\n",
    "    new_key = word.replace(\"'\", \"\")\n",
    "    inverse_cList[new_key] = cList[word]\n",
    "\n",
    "cList_keys = cList.keys()\n",
    "inverse_cList_keys = inverse_cList.keys()"
   ]
  },
  {
   "cell_type": "code",
   "execution_count": 46,
   "metadata": {
    "collapsed": true
   },
   "outputs": [],
   "source": [
    "def expandContractions(text, words):#, c_re=c_re):\n",
    "    c_re = re.compile('(%s)' % '|'.join(words.keys()))\n",
    "    def replace(match):\n",
    "        return cList[match.group(0)]\n",
    "    return c_re.sub(replace, text)"
   ]
  },
  {
   "cell_type": "code",
   "execution_count": 42,
   "metadata": {
    "collapsed": true
   },
   "outputs": [],
   "source": [
    "#method of review?\n",
    "def metaData_clean(_reviews):\n",
    "    for ik, _review in enumerate(_reviews):\n",
    "        #pull out contractions\n",
    "        comment_text = (_review.comment).split()\n",
    "        for word in comment_text:\n",
    "            if len(word.split(\"'s\"))>1:\n",
    "                word = word.split(\"'s\")[0]\n",
    "            if word in cList_keys:\n",
    "                word= cList[word]\n",
    "            if word in inverse_cList_keys:\n",
    "                word = inverse_cList[word]\n",
    "\n",
    "        _review.comment = ' '.join(comment_text)\n",
    "        \n",
    "        #remove punctuation\n",
    "        remove = string.punctuation\n",
    "        remove = remove.replace(\"-\", \"\") # don't remove hyphens\n",
    "        pattern = r\"[{}]\".format(remove) \n",
    "        _review.comment = re.sub(pattern, \"\",  _review.comment) \n",
    "\n",
    "    return _reviews"
   ]
  },
  {
   "cell_type": "code",
   "execution_count": 34,
   "metadata": {
    "collapsed": true
   },
   "outputs": [],
   "source": [
    "d2 = enchant.DictWithPWL(\"en_US\",\"new_words.txt\")\n",
    "chkr = SpellChecker(\"en_US\", filters=[EmailFilter,URLFilter])\n",
    "\n",
    "def spellchecker(reviews):\n",
    "    for ik, review in enumerate(reviews):\n",
    "            chkr.set_text(review.comment)\n",
    "            for err in chkr:\n",
    "                # forFuture: add catch for repeated character, e.g. 'soooooooo'\n",
    "                error = (err.word).lower()\n",
    "                options = [change.lower() for change in d2.suggest(error)]\n",
    "                if error in options:\n",
    "                    continue\n",
    "                else:\n",
    "                    catch = 'no'\n",
    "                    word_to_beat = options[0]\n",
    "                    score_to_beat = 10\n",
    "                    for word in options:\n",
    "                        dist = nltk.edit_distance(error, word)\n",
    "                        if (word in new_words):\n",
    "                            if (nltk.edit_distance(error, word)<=score_to_beat):\n",
    "                                word_to_beat = word\n",
    "                                score_to_beat = nltk.edit_distance(error, word)\n",
    "                                catch = 'yes'\n",
    "                        elif dist<score_to_beat:\n",
    "                            word_to_beat = word\n",
    "                            score_to_beat = nltk.edit_distance(error, word)\n",
    "                    print('final option:', word_to_beat, ',\\t\\t error:', error, 'score:', score_to_beat)"
   ]
  },
  {
   "cell_type": "code",
   "execution_count": 19,
   "metadata": {
    "collapsed": true
   },
   "outputs": [],
   "source": [
    "pickle_name = \"drug_list_ddc_pg1.p\""
   ]
  },
  {
   "cell_type": "code",
   "execution_count": 20,
   "metadata": {
    "collapsed": false
   },
   "outputs": [
    {
     "name": "stdout",
     "output_type": "stream",
     "text": [
      "drug_list_ddc.p\n"
     ]
    }
   ],
   "source": [
    "drug_list = load_pickle(pickle_name)\n",
    "print(len(drug_list[0].reviews))"
   ]
  },
  {
   "cell_type": "code",
   "execution_count": null,
   "metadata": {
    "collapsed": true
   },
   "outputs": [],
   "source": [
    "drug_list[1].__dict__"
   ]
  },
  {
   "cell_type": "code",
   "execution_count": 43,
   "metadata": {
    "collapsed": false
   },
   "outputs": [
    {
     "name": "stdout",
     "output_type": "stream",
     "text": [
      "None\n",
      "[1, 6]\n",
      "['I', 'was', 'taking', 'Cymbalta', 'for', '2', '12', 'months', 'along', 'with', 'Lamictal', 'which', 'I', 'still', 'take', 'to', 'get', 'rid', 'of', 'the', 'depressive', 'side', 'of', 'bipolar', 'It', 'made', 'me', 'super', 'down', 'and', 'extremely', 'on', 'edge', 'for', 'weeks', 'I', 'was', 'on', '20mg']\n",
      "None\n",
      "None\n",
      "None\n",
      "[0, 1]\n",
      "['I', 'took', 'my', 'first', 'dose', 'of', 'generic', 'Cymbalta', 'last', 'night', 'of', '60', 'milligrams', 'Its', 'now', '547', 'PM', 'Ive', 'not', 'eaten', 'all', 'day', 'due', 'to', 'the', 'severe', 'nausea', 'Im', 'also', 'very', 'jittery', 'anxious', 'have', 'a', 'super', 'really', 'bad', 'headache', 'Im', 'also', 'prone', 'to', 'migraines', 'my', 'tinnitus', 'is', 'worse', 'in', 'my', 'left', 'ear', 'I', 'also', 'have', 'slept', 'most', 'of', 'the', 'day', 'besides', 'I', 'have', 'depression', 'mild', 'PTSD', 'anxiety', 'migraines', 'Ive', 'been', 'on', 'other', 'anti-depressants', 'before', 'Prozac', 'increased', 'my', 'migraines', 'the', 'last', 'time', 'I', 'think', 'this', 'generic', 'of', 'Cymbalta', 'wont', 'be', 'for', 'me']\n",
      "Ive\n",
      "Im\n",
      "Im\n",
      "Ive\n",
      "wont\n",
      "None\n",
      "None\n",
      "None\n",
      "[24, 60]\n",
      "['Ive', 'been', 'taking', 'Cymbalta', 'for', 'depression', 'for', 'two', 'and', 'a', 'half', 'years', 'My', 'doctor', 'titrated', 'me', 'up', 'to', '120mg', 'I', 'was', 'at', '120mg', 'for', 'over', 'two', 'and', 'a', 'half', 'years', 'and', 'almost', 'constantly', 'I', 'was', 'severely', 'depressed', 'severe', 'anxiety', 'some', 'paranoia', 'no', 'energy', 'over', 'reaction', 'self', 'harm', 'extreme', 'anger', 'just', 'to', 'name', 'a', 'few', 'Thats', 'not', 'to', 'say', 'I', 'do', 'have', 'some', 'of', 'those', 'problems', 'normally', 'but', 'not', 'as', 'severe', 'or', 'as', 'constant', 'So', 'Cymbalta', 'was', 'overlooked', 'as', 'a', 'cause', 'to', 'my', 'worsening', 'issues', 'Two', 'weeks', 'ago', 'I', 'was', 'admitted', 'into', 'an', 'inpatient', 'hospital', 'to', 'basically', 'save', 'my', 'life', 'While', 'I', 'was', 'in', 'there', 'I', 'was', 'abruptly', 'taken', 'off', 'then', 'titrated', 'up', 'to', '60mg', 'Im', 'a', 'totally', 'different', 'person', 'now', 'I', 'did', 'a', 'complete', '180°', 'I', 'cant', 'believe', 'what', 'a', 'difference', 'it', 'makes', 'being', 'on', 'the', 'right', 'dose']\n",
      "Ive\n",
      "cause\n",
      "Im\n",
      "cant\n",
      "None\n",
      "None\n",
      "None\n",
      "[1, 6]\n",
      "['Ok', 'so', 'Im', 'a', '19yo', 'female', 'and', 'After', 'a', 'month', 'and', 'a', 'half', 'of', 'super', 'minor', 'side', 'effects', 'groggy', 'dizzy', 'no', 'appetite', 'cymbalta', 'started', 'to', 'work', 'really', 'well', 'however', 'about', 'a', 'couple', 'months', 'ago', 'I', 'began', 'experiencing', 'mood', 'swings', 'more', 'and', 'more', 'gradually', 'Now', 'I', 'have', 'days', 'where', 'Im', 'in', 'a', 'completely', 'crabby', 'mood', 'I', 'dont', 'want', 'to', 'do', 'anything', 'or', 'Im', 'in', 'an', 'ok', 'mood', 'Ill', 'go', 'out', 'and', 'try', 'to', 'do', 'a', 'couple', 'of', 'things', 'to', 'build', 'confidence', 'or', 'Im', 'totally', 'pissy', 'and', 'mean', 'all', 'day', 'and', 'I', 'cry', 'and', 'flip', 'out', 'like', 'literally', 'cry', 'and', 'like', 'threaten', 'to', 'leave', 'him', 'for', 'nothing', 'My', 'poor', 'boyfriend', 'who', 'doesnt', 'even', 'understand', 'the', 'medicine', 'who', 'tries', 'to', 'because', 'he', 'respects', 'my', 'choices', 'I', 'plan', 'on', 'changing', 'my', 'medicine', 'my', 'next', 'doctors', 'visit', 'cuz', 'the', 'mood', 'swings', 'are', 'making', 'it', 'hard', 'to', 'get', 'a', 'job']\n",
      "Im\n",
      "well\n",
      "Im\n",
      "dont\n",
      "Im\n",
      "Ill\n",
      "Im\n",
      "doesnt\n",
      "None\n",
      "None\n",
      "None\n",
      "[0, 1]\n",
      "['Just', 'took', 'it', 'at', 'its', 'smallest', 'available', 'dose', 'this', 'past', 'week', 'I', 'was', 'replacing', 'my', 'Zoloft', 'because', 'I', 'felt', 'that', 'my', 'depression', 'is', 'more', 'of', 'a', 'reaction', 'to', 'my', 'anxiety', 'so', 'my', 'doc', 'put', 'me', 'on', 'this', 'which', 'is', 'known', 'to', 'treat', 'both', 'unlike', 'Zoloft', 'which', 'only', 'treats', 'depression', 'I', 'have', 'yet', 'to', 'experience', 'any', 'bad', 'side', 'effects', 'like', 'many', 'do', 'in', 'the', 'beginning', 'and', 'if', 'anything', 'it', 'actually', 'treated', 'the', 'side', 'effects', 'of', 'getting', 'off', 'Zoloft', 'like', 'nerve', 'tingliness', 'It', 'gives', 'me', 'an', 'overall', 'sense', 'of', 'calm', 'and', 'unlike', 'other', 'anxiety', 'meds', 'it', 'doesnt', 'sacrifice', 'by', 'concentration', 'and', 'memory', 'which', 'is', 'very', 'important', 'since', 'Im', 'a', 'full', 'time', 'student', 'It', 'calmed', 'my', 'anxiety', 'and', 'allowed', 'me', 'to', 'sleep', 'which', 'in', 'result', 'I', 'dont', 'feel', 'depression', 'A', 'on', 'this', 'medication', 'so', 'far']\n",
      "its\n",
      "doesnt\n",
      "Im\n",
      "dont\n",
      "None\n",
      "[6, 12]\n",
      "['This', 'drug', 'has', 'changed', 'my', 'life', 'Before', 'taking', 'Cymbalta', 'I', 'was', 'depressed', 'anxious', 'and', 'borderline', 'suicidal', 'Within', 'a', 'few', 'weeks', 'of', 'my', 'first', 'dose', '60mg', 'I', 'noticed', 'that', 'I', 'was', 'more', 'outgoing', 'friendly', 'and', 'that', 'my', 'mood', 'has', 'significantly', 'improved', 'Although', 'I', 'experience', 'some', 'sexual', 'side', 'effects', 'the', 'drug', 'has', 'been', 'incredible', 'on', 'the', 'whole', 'Id', 'highly', 'recommend', 'it']\n",
      "Id\n",
      "None\n",
      "None\n",
      "None\n",
      "[6, 12]\n",
      "['It', 'alleviates', 'my', 'depression', 'But', 'I', 'have', 'some', 'headache', 'I', 'am', 'not', 'sure', 'if', 'it', 'is', 'caused', 'by', 'the', 'drug']\n",
      "None\n",
      "[0, 1]\n",
      "['Ive', 'been', 'having', 'anxiety', 'and', 'depression', 'issues', 'recently', 'and', 'since', 'Ive', 'had', 'back', 'surgery', 'and', 'residual', 'pain', 'my', 'doc', 'put', 'me', 'on', '40', 'mg', 'of', 'Cymbalta', 'About', '3', 'hours', 'after', 'I', 'took', 'my', 'first', 'dose', 'I', 'had', 'the', 'worst', 'migraine', 'Ive', 'ever', 'had', 'in', 'my', 'life', 'coupled', 'with', 'nausea', 'finally', 'vomiting', 'cold', 'chills', 'auditory', 'hallucinations', 'low', 'rumbling', 'sound', 'plus', 'my', 'tinnitus', 'got', 'worse', 'sleeplessness', 'loss', 'of', 'appetite', 'and', 'everything', 'tasted', 'like', 'aspirin', 'The', 'next', 'morning', 'my', 'wife', 'and', 'I', 'attempted', 'to', 'have', 'sex', 'While', 'I', 'did', 'have', 'an', 'erection', 'after', 'almost', 'two', 'hours', 'of', 'trying', 'I', 'never', 'even', 'got', 'close', 'to', 'an', 'orgasm', 'Now', 'Im', 'in', 'some', 'discomfort', 'For', 'a', 'drug', 'thats', 'supposed', 'to', 'make', 'me', 'feel', 'better', 'Id', 'never', 'take', 'it', 'again']\n",
      "Ive\n",
      "Ive\n",
      "Ive\n",
      "Im\n",
      "thats\n",
      "Id\n",
      "None\n",
      "None\n",
      "None\n",
      "[0, 1]\n",
      "['Horrible', 'headache', 'drowsiness', 'feeling', 'of', 'paralysis', 'and', 'diarrhea']\n",
      "None\n",
      "None\n",
      "None\n",
      "[0, 1]\n",
      "['First', '24', 'hours', 'my', 'experience', 'is', 'as', 'follows', 'I', 'made', 'up', 'a', 'joke', 'about', 'my', 'experience', 'since', 'I', 'had', 'lots', 'of', 'time', 'last', 'night', 'to', 'think', 'about', 'it', 'I', 'certainly', 'wasnt', 'sleeping', 'So', 'I', 'go', 'to', 'this', 'really', 'sleazy', 'bar', 'called', 'The', 'Cymbalta', 'I', 'order', 'a', 'shot', 'of', 'E', 'Coli', 'Im', 'still', 'standing', 'so', 'I', 'tell', 'the', 'bartender', 'to', 'pour', 'me', 'some', 'Dysentery', 'Then', 'I', 'try', 'a', 'frosty', 'mug', 'of', 'Swine', 'Flu', 'In', 'other', 'words', 'this', 'stuff', 'is', 'like', 'taking', 'poison', 'My', 'idea', 'for', 'Contraindications', '1', 'Not', 'recommended', 'for', 'anyone', 'who', 'is', 'actually', 'alive', '2', 'Not', 'recommended', 'if', 'you', 'are', 'more', 'than', '10', 'feet', 'away', 'from', 'a', 'toilet', 'bowl', 'Yeah', 'I', 'know', 'all', 'drugs', 'have', 'side', 'effects', 'and', 'this', 'probably', 'a', 'transitory', 'condition', 'that', 'will', 'eventually', 'go', 'away', 'Maybe', 'I', 'just', 'dont', 'think', 'I', 'can', 'wait', 'for', 'the', 'feeling', 'better', 'part', 'to', 'begin']\n",
      "wasnt\n",
      "Im\n",
      "dont\n",
      "None\n",
      "None\n",
      "None\n",
      "None\n",
      "None\n",
      "[1, 6]\n",
      "['After', 'reading', 'some', 'of', 'these', 'comments', 'I', 'realize', 'Im', 'not', 'alone', 'I', 'just', 'broke', 'down', 'about', 'an', 'hour', 'ago', 'not', 'understanding', 'why', 'am', 'so', 'depressed', 'Im', 'not', 'sad', 'but', 'Im', 'depressed', 'I', 'am', 'a', 'cancer', 'patient', 'that', 'is', '40', 'years', 'old', 'and', 'Ive', 'been', 'battling', 'cancer', 'and', 'severely', 'depressed', 'since', 'I', 'was', '24', 'I', 'just', 'recently', 'spent', 'a', 'month', 'in', 'bed', 'because', 'I', 'was', 'in', 'such', 'horrible', 'pain', 'I', 'finally', 'ended', 'up', 'in', 'the', 'hospital', 'because', 'my', 'cancers', 'back', 'once', 'again', 'and', 'they', 'upped', 'my', 'dose', 'from', '30', 'mg', 'to', '60', 'mg', 'to', 'help', 'with', 'pain', 'and', 'depression', 'I', 'havent', 'noticed', 'that', 'it', 'helps', 'with', 'any', 'pain', 'but', 'I', 'have', 'had', 'all', 'the', 'side', 'effects', 'but', 'Ive', 'read', 'in', 'these', 'comments', 'Im', 'so', 'glad', 'I', 'found', 'this', 'now', 'I', 'know', 'to', 'stop', 'taking', 'this', 'med', 'but', 'Im', 'terrified', 'of', 'the', 'side', 'effects', 'to', 'come', 'I', 'havent', 'worked', 'since', 'January', '5', 'I', 'get', 'discharge', 'from', 'the', 'hospice', 'house', 'on', 'February', '20', 'and', 'all', 'I', 'can', 'do', 'is', 'go', 'to', 'the', 'bathroom', 'and', 'lay', 'in', 'my', 'chair', 'Im', 'fighting', 'so', 'hard', 'to', 'be', 'happy', 'but', 'nothing', 'is', 'working']\n",
      "Im\n",
      "Im\n",
      "Im\n",
      "Ive\n",
      "havent\n",
      "Ive\n",
      "Im\n",
      "Im\n",
      "havent\n",
      "Im\n",
      "None\n",
      "[1, 6]\n",
      "['I', 'experienced', 'brain', 'zaps', 'and', 'severe', 'mood', 'changes', 'on', 'Cymbalta', 'It', 'worked', 'great', 'for', 'neuropathy', 'at', 'first', 'but', 'it', 'worsened', 'my', 'depression', 'and', 'anxiety', 'I', 'felt', 'restless', 'all', 'the', 'time', 'like', 'I', 'was', 'climbing', 'the', 'walls', 'Eventually', 'I', 'felt', 'numb', 'and', 'unable', 'to', 'function', 'My', 'doctor', 'refused', 'to', 'take', 'me', 'off', 'of', 'it', 'so', 'I', 'took', 'myself', 'off', 'and', 'found', 'a', 'new', 'doctor', 'who', 'refilled', 'my', 'Zoloft', 'prescription']\n",
      "None\n",
      "[1, 6]\n",
      "['I', 'must', 'say', 'that', 'it', 'helped', 'with', 'my', 'neuropathy', 'but', 'from', 'day', 'one', 'I', 'had', 'a', 'terrible', 'time', 'urinating', 'and', 'was', 'experiencing', 'horrible', 'nightmares', 'As', 'soon', 'as', 'I', 'discontinued', 'it', 'these', 'symptoms', 'went', 'away', 'I', 'am', 'on', 'Zoloft', 'now', 'without', 'any', 'problems']\n",
      "None\n",
      "[0, 1]\n",
      "['I', 'had', 'such', 'a', 'mixed', 'experience', 'on', 'Cymbalta', 'I', 'took', 'it', 'for', '1', 'month', 'It', 'made', 'half', 'my', 'day', 'awful', 'and', 'the', 'other', 'half', 'great', 'I', 'would', 'take', 'it', 'in', 'the', 'morning', '30mg', 'and', 'for', 'the', 'first', 'half', 'of', 'the', 'day', 'I', 'would', 'feel', 'this', 'dark', 'undercurrent', 'but', 'kind', 'of', 'speedy', 'at', 'the', 'same', 'time', 'It', 'made', 'me', 'have', 'terrible', 'anxiety', 'and', 'paranoia', 'and', 'I', 'fought', 'with', 'my', 'husband', 'in', 'the', 'mornings', 'accusing', 'him', 'of', 'petty', 'things', 'Then', 'around', '1pm', 'this', 'darkness', 'would', 'lift', 'and', 'I', 'would', 'feel', 'happy', 'it', 'was', 'really', 'bizarre', 'But', 'the', 'damage', 'done', 'to', 'my', 'marriage', 'from', 'my', 'behavior', 'in', 'the', 'mornings', 'was', 'terrible', 'I', 'hope', 'my', 'husband', 'can', 'forgive', 'me', 'for', 'the', 'drama', 'My', 'last', 'dose', 'was', '2', 'days', 'ago', 'and', 'I', 'feel', 'much', 'more', 'stable', 'and', 'sane', 'I', 'did', 'not', 'like', 'how', 'this', 'drug', 'altered', 'my', 'personality', 'so', 'much', 'in', 'the', 'mornings']\n",
      "None\n",
      "None\n",
      "None\n",
      "None\n"
     ]
    },
    {
     "data": {
      "text/plain": [
       "[<drugSite_scrapers2.review at 0x96f37b0>,\n",
       " <drugSite_scrapers2.review at 0x96f36d0>,\n",
       " <drugSite_scrapers2.review at 0x96f3670>,\n",
       " <drugSite_scrapers2.review at 0x96f3690>,\n",
       " <drugSite_scrapers2.review at 0x96f3650>,\n",
       " <drugSite_scrapers2.review at 0x96f3610>,\n",
       " <drugSite_scrapers2.review at 0x96f35b0>,\n",
       " <drugSite_scrapers2.review at 0x96f3550>,\n",
       " <drugSite_scrapers2.review at 0x96f3570>,\n",
       " <drugSite_scrapers2.review at 0x96f3530>,\n",
       " <drugSite_scrapers2.review at 0x96f34d0>,\n",
       " <drugSite_scrapers2.review at 0x96f34f0>,\n",
       " <drugSite_scrapers2.review at 0x96f3470>,\n",
       " <drugSite_scrapers2.review at 0x96f3490>,\n",
       " <drugSite_scrapers2.review at 0x96f3450>,\n",
       " <drugSite_scrapers2.review at 0x96f33f0>,\n",
       " <drugSite_scrapers2.review at 0x96f33b0>,\n",
       " <drugSite_scrapers2.review at 0x96f33d0>,\n",
       " <drugSite_scrapers2.review at 0x96f3370>,\n",
       " <drugSite_scrapers2.review at 0x96f3310>,\n",
       " <drugSite_scrapers2.review at 0x96f3330>,\n",
       " <drugSite_scrapers2.review at 0x96f32f0>,\n",
       " <drugSite_scrapers2.review at 0x96f3290>,\n",
       " <drugSite_scrapers2.review at 0x96f3230>,\n",
       " <drugSite_scrapers2.review at 0x96f3250>]"
      ]
     },
     "execution_count": 43,
     "metadata": {},
     "output_type": "execute_result"
    }
   ],
   "source": [
    "metaData_clean(drug_list[0].reviews)"
   ]
  },
  {
   "cell_type": "code",
   "execution_count": 55,
   "metadata": {
    "collapsed": false
   },
   "outputs": [
    {
     "name": "stdout",
     "output_type": "stream",
     "text": [
      "final option: realized ,\t\t error: realised score: 1\n",
      "final option: prissy ,\t\t error: pissy score: 1\n",
      "final option: cu ,\t\t error: cuz score: 1\n",
      "final option: kingliness ,\t\t error: tingliness score: 1\n",
      "final option: col ,\t\t error: coli score: 1\n",
      "final option: lamictal ,\t\t error: lamactal score: 1\n",
      "final option: sooths ,\t\t error: sooooo score: 3\n",
      "final option: fibroid ,\t\t error: fibro score: 2\n",
      "final option: copyable ,\t\t error: copable score: 1\n",
      "final option: withdrawing ,\t\t error: wothdrawaling score: 3\n",
      "final option: bonzes ,\t\t error: benzos score: 2\n",
      "final option: trazodone ,\t\t error: trazadone score: 1\n",
      "final option: prescription ,\t\t error: perscription score: 2\n",
      "final option: dot ,\t\t error: doct score: 1\n",
      "final option: physician ,\t\t error: physican score: 1\n",
      "final option: recommended ,\t\t error: recommeded score: 1\n",
      "final option: physician ,\t\t error: physican score: 1\n",
      "final option: ms ,\t\t error: mds score: 1\n",
      "final option: want ,\t\t error: wasnt score: 1\n",
      "final option: want ,\t\t error: wasnt score: 1\n",
      "final option: m ,\t\t error: im score: 1\n",
      "final option: ms ,\t\t error: bms score: 1\n",
      "final option: medication ,\t\t error: medicaton score: 1\n",
      "final option: suicidal ,\t\t error: suicidality score: 3\n",
      "final option: fibroid ,\t\t error: fibro score: 2\n",
      "final option: ya ,\t\t error: yay score: 1\n",
      "final option: ankylosing ,\t\t error: ankelosing score: 1\n",
      "final option: spondylosis ,\t\t error: spondolosis score: 1\n",
      "final option: suppressing ,\t\t error: supressing score: 1\n",
      "final option: re ,\t\t error: pre score: 1\n",
      "final option: possibility ,\t\t error: possibilty score: 1\n",
      "final option: fibroid ,\t\t error: fibro score: 2\n",
      "final option: symptoms ,\t\t error: symtoms score: 1\n",
      "final option: dis associative ,\t\t error: disassociative score: 1\n",
      "final option: motivated ,\t\t error: demotivated score: 2\n",
      "final option: gabapentin ,\t\t error: gabbapentin score: 1\n",
      "final option: sari's ,\t\t error: snri's score: 1\n",
      "final option: diarrhea ,\t\t error: diarrhoea score: 1\n",
      "final option: cymbalta ,\t\t error: cymalta score: 1\n",
      "final option: every time ,\t\t error: everytime score: 1\n",
      "final option: diarrhea ,\t\t error: diahrrea score: 2\n",
      "final option: tickings ,\t\t error: ticklings score: 1\n",
      "final option: tinnitus ,\t\t error: tinitus score: 1\n",
      "final option: agitated ,\t\t error: aggitated score: 1\n",
      "final option: mistake ,\t\t error: mistaked score: 1\n",
      "final option: realized ,\t\t error: realised score: 1\n",
      "final option: recognize ,\t\t error: recognise score: 1\n",
      "final option: nor co ,\t\t error: norco score: 1\n",
      "final option: shoo ,\t\t error: sooo score: 1\n",
      "final option: lot ,\t\t error: alot score: 1\n",
      "final option: dint ,\t\t error: didnt score: 1\n",
      "final option: hast ,\t\t error: hasnt score: 1\n",
      "final option: sh ,\t\t error: smh score: 1\n",
      "final option: pd ,\t\t error: bpd score: 1\n",
      "final option: lamictal ,\t\t error: lamactal score: 1\n",
      "final option: trazodone ,\t\t error: trazadone score: 1\n",
      "final option: viibryd ,\t\t error: viiebyd score: 2\n",
      "final option: dost ,\t\t error: dosnt score: 1\n",
      "final option: ideation ,\t\t error: ideations score: 1\n",
      "final option: appetite ,\t\t error: appetitie score: 1\n",
      "final option: achy ,\t\t error: achey score: 1\n",
      "final option: dot ,\t\t error: dont score: 1\n",
      "final option: administration on ,\t\t error: administrationon score: 1\n",
      "final option: rsi ,\t\t error: nrsi score: 1\n",
      "final option: briner ,\t\t error: brainer score: 1\n",
      "final option: apt ,\t\t error: appt score: 1\n",
      "final option: dizziness ,\t\t error: diziziness score: 1\n",
      "final option: ti ,\t\t error: uti score: 1\n",
      "final option: ti ,\t\t error: uti score: 1\n",
      "final option: ks ,\t\t error: wks score: 1\n",
      "final option: m ,\t\t error: im score: 1\n",
      "final option: m ,\t\t error: im score: 1\n",
      "final option: m ,\t\t error: im score: 1\n",
      "final option: tied ,\t\t error: tierd score: 1\n",
      "final option: definitely ,\t\t error: definately score: 1\n",
      "final option: lot ,\t\t error: alot score: 1\n",
      "final option: m ,\t\t error: im score: 1\n",
      "final option: in between ,\t\t error: inbetween score: 1\n",
      "final option: dot ,\t\t error: dont score: 1\n",
      "final option: effectiveness ,\t\t error: effectivness score: 1\n",
      "final option: std ,\t\t error: pstd score: 1\n",
      "final option: pristine ,\t\t error: pristique score: 2\n",
      "final option: cipralex ,\t\t error: ciraplex score: 2\n",
      "final option: permanent ,\t\t error: permanant score: 1\n",
      "final option: health care ,\t\t error: healthcare score: 1\n",
      "final option: cymbalta ,\t\t error: cympalta score: 1\n",
      "final option: thrum ,\t\t error: thru score: 1\n",
      "final option: hashimoto ,\t\t error: hashimoto's score: 2\n",
      "final option: gs ,\t\t error: gps score: 1\n",
      "final option: counseling ,\t\t error: counselling score: 1\n",
      "final option: spay ,\t\t error: spacy score: 1\n",
      "final option: fibroid ,\t\t error: fibro score: 2\n",
      "final option: spay ,\t\t error: spacy score: 1\n",
      "final option: depressant ,\t\t error: dpressant score: 1\n",
      "final option: haven ,\t\t error: havent score: 1\n",
      "final option: castro ,\t\t error: gastro score: 1\n",
      "final option: tad ,\t\t error: tada score: 1\n",
      "final option: am ,\t\t error: bam score: 1\n",
      "final option: effexor ,\t\t error: efexor score: 1\n",
      "final option: hospitalized ,\t\t error: hospitalised score: 1\n",
      "final option: noticeably ,\t\t error: noticably score: 1\n",
      "final option: rt ,\t\t error: hrt score: 1\n",
      "final option: lexapro ,\t\t error: lexepro score: 1\n",
      "final option: wellbutrin ,\t\t error: wellburtin score: 2\n",
      "final option: pm ,\t\t error: bpm score: 1\n",
      "final option: maths ,\t\t error: mths score: 1\n",
      "final option: step mom ,\t\t error: stepmom score: 1\n",
      "final option: saris ,\t\t error: ssris score: 1\n",
      "final option: thinking ,\t\t error: thnking score: 1\n",
      "final option: the highest ,\t\t error: thehighest score: 1\n",
      "final option: yesterday ,\t\t error: yesteray score: 1\n",
      "final option: infarct ,\t\t error: infact score: 1\n",
      "final option: difference ,\t\t error: difrence score: 2\n",
      "final option: doc ,\t\t error: pdoc score: 1\n",
      "final option: maori's ,\t\t error: maoi's score: 1\n",
      "final option: lies ,\t\t error: lifes score: 1\n",
      "final option: tricyclic ,\t\t error: tricyclics score: 1\n",
      "final option: maori's ,\t\t error: maoi's score: 1\n",
      "final option: ssri ,\t\t error: ssnri score: 1\n",
      "final option: chem ,\t\t error: chemo score: 1\n",
      "final option: sh ,\t\t error: ish score: 1\n",
      "final option: blanca ,\t\t error: blaaaa score: 2\n",
      "final option: wight ,\t\t error: wieght score: 1\n",
      "final option: wellness ,\t\t error: unwellness score: 2\n",
      "final option: realize ,\t\t error: realise score: 1\n",
      "final option: wingeing ,\t\t error: twingeing score: 1\n",
      "final option: on line ,\t\t error: online score: 1\n",
      "final option: response ,\t\t error: repsonse score: 2\n",
      "final option: insomnia ,\t\t error: isomnia score: 1\n",
      "final option: depressant ,\t\t error: depressent score: 1\n",
      "final option: cabs ,\t\t error: carbs score: 1\n",
      "final option: exercising ,\t\t error: excercising score: 1\n",
      "final option: rd ,\t\t error: trd score: 1\n",
      "final option: headpins ,\t\t error: headspins score: 1\n",
      "final option: serzone ,\t\t error: serazone score: 1\n",
      "final option: zombie ,\t\t error: zombied score: 1\n",
      "final option: because ,\t\t error: becuase score: 2\n",
      "final option: seroquel ,\t\t error: seroquil score: 1\n",
      "final option: withdraw ,\t\t error: withdrawl score: 1\n",
      "final option: wellbutrin ,\t\t error: welbutrin score: 1\n",
      "final option: doctor ,\t\t error: docotr score: 2\n",
      "final option: achy ,\t\t error: achey score: 1\n",
      "final option: sh ,\t\t error: ish score: 1\n",
      "final option: on line ,\t\t error: online score: 1\n",
      "final option: manufactures ,\t\t error: manufactors score: 2\n",
      "final option: m ,\t\t error: im score: 1\n",
      "final option: pharmacy ,\t\t error: pharma score: 2\n",
      "final option: am ,\t\t error: fam score: 1\n",
      "final option: counsellings ,\t\t error: councelling score: 2\n",
      "final option: cymbalta ,\t\t error: cymbolta score: 1\n",
      "final option: leveled ,\t\t error: levelled score: 1\n"
     ]
    }
   ],
   "source": [
    "spellchecker(reviews)"
   ]
  },
  {
   "cell_type": "code",
   "execution_count": null,
   "metadata": {
    "collapsed": true
   },
   "outputs": [],
   "source": []
  }
 ],
 "metadata": {
  "kernelspec": {
   "display_name": "Python 3",
   "language": "python",
   "name": "python3"
  },
  "language_info": {
   "codemirror_mode": {
    "name": "ipython",
    "version": 3
   },
   "file_extension": ".py",
   "mimetype": "text/x-python",
   "name": "python",
   "nbconvert_exporter": "python",
   "pygments_lexer": "ipython3",
   "version": "3.6.1"
  }
 },
 "nbformat": 4,
 "nbformat_minor": 2
}
