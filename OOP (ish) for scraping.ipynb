{
 "cells": [
  {
   "cell_type": "code",
   "execution_count": 1,
   "metadata": {
    "collapsed": true
   },
   "outputs": [],
   "source": [
    "from bs4 import BeautifulSoup as bf\n",
    "import requests\n",
    "import re"
   ]
  },
  {
   "cell_type": "code",
   "execution_count": 2,
   "metadata": {
    "collapsed": true
   },
   "outputs": [],
   "source": [
    "def load_soup(url):\n",
    "    html = requests.get(url).text\n",
    "    soup = bf(html, 'html5lib')\n",
    "    return soup"
   ]
  },
  {
   "cell_type": "code",
   "execution_count": 4,
   "metadata": {
    "collapsed": true
   },
   "outputs": [],
   "source": [
    "# builds url lists specific to the site\n",
    "def Drugs_url_list(drug_stem, pg_init, pg_n):\n",
    "    url_c = ['https://www.drugs.com/comments/', '/?page=']\n",
    "    url_list = [url_c[0] + drug_stem + url_c[1] +str(ik) for ik in range(pg_init, pg_n+1)]\n",
    "    return url_list\n",
    "\n",
    "def WebMD_url_list(drug_stem, pg_init, pg_n):\n",
    "    url_c = ['https://www.webmd.com/drugs/drugreview-', '&pageIndex=', '&sortby=3&conditionFilter=-500' ]\n",
    "    url_list = [url_c[0] + drug_stem + url_c[1] +str(ik) + url_c[2] for ik in range(pg_init, pg_n+1)]\n",
    "    return url_list\n",
    "    "
   ]
  },
  {
   "cell_type": "code",
   "execution_count": 5,
   "metadata": {
    "collapsed": true
   },
   "outputs": [],
   "source": [
    "# takes url list, scrapes, returns pages of soup\n",
    "def scraper(url_list):\n",
    "    soup_list = []\n",
    "    for url in url_list:\n",
    "        soup_list.append( [url, load_soup(url)])\n",
    "    return soup_list "
   ]
  },
  {
   "cell_type": "code",
   "execution_count": 6,
   "metadata": {
    "collapsed": true
   },
   "outputs": [],
   "source": [
    "# uses methods from the two parser classes to slice and dice soup into review objects\n",
    "def parse_reviews(pages, tag, drug, parser):\n",
    "    print(len(pages))\n",
    "    for page in pages:\n",
    "        rev_stew = page[1].find_all('div' ,{'class' : tag})\n",
    "        for ik, item in enumerate(rev_stew):\n",
    "            new_review = review(drug, item, parser, ik)\n",
    "            drug.reviews.append(new_review)       "
   ]
  },
  {
   "cell_type": "code",
   "execution_count": 7,
   "metadata": {
    "collapsed": true
   },
   "outputs": [],
   "source": [
    "# each drug has a name and a url_stem\n",
    "class drug:\n",
    "    \n",
    "    def __init__(self, name, url_stem):\n",
    "        self.name = name\n",
    "        self.url_stem = url_stem\n",
    "        self.reviews = []"
   ]
  },
  {
   "cell_type": "code",
   "execution_count": 8,
   "metadata": {
    "collapsed": true
   },
   "outputs": [],
   "source": [
    "# ************ webMD.com ************ Parser\n",
    "\n",
    "class WebMD:\n",
    "    \n",
    "        def __init__(self, name):\n",
    "            self.name = name\n",
    "\n",
    "            \n",
    "        def set_reviewerMeta (_rev_soup, ik):\n",
    "            try:\n",
    "                reviewer_temp = _review_soup.find('p', {'class':'reviewerInfo'}).text\n",
    "                return reviewer_temp.strip('Reviewer: ')\n",
    "            except:\n",
    "                return None\n",
    "            \n",
    "        #below takes reviewer soup\n",
    "        def set_userName (self, _reviewerMeta):\n",
    "            try:\n",
    "                return _reviewerMeta.split(',')[0]\n",
    "            except:\n",
    "                return None\n",
    "\n",
    "        def set_ageRange (self, _reviewerMeta):\n",
    "            try:\n",
    "                return re.search('\\s\\w+[-]\\w+\\s', _reviewerMeta).group().strip()\n",
    "            except:\n",
    "                return None\n",
    "\n",
    "        def set_gender (self, _reviewerMeta):\n",
    "            try: \n",
    "                return re.split('\\s\\w+[-]\\w+\\s', _reviewerMeta)[1].split()[0]\n",
    "            except: \n",
    "                return None\n",
    "\n",
    "        def set_medDuration (self, _reviewerMeta):\n",
    "            try:\n",
    "                return re.split('on Treatment for ', _reviewerMeta)[1].split('(Patient)')[0].strip()\n",
    "            except:\n",
    "                return None\n",
    "            \n",
    "        #below takes full soup\n",
    "        #untested for webMD\n",
    "        def set_reviewDate  (self, _rev_soup):\n",
    "            try:\n",
    "                heading = _reviewerMeta.find('div', {'class': 'postHeading clearfix'}).text\n",
    "                heading.find('div', {'class': 'date'}).text\n",
    "            except:\n",
    "                return None\n",
    "                \n",
    "        def set_condition (self, _rev_soup):\n",
    "            try:\n",
    "                condition = _rev_soup.find('div', {'class': 'conditionInfo'}).text\n",
    "                temp = condition.split('Condition: ')[1]\n",
    "#                 print(temp)\n",
    "                return temp\n",
    "            except:\n",
    "                return None\n",
    "                \n",
    "        def set_effectiveness (self, _rev_soup):\n",
    "                try:\n",
    "                    temp = _rev_soup.find('div' ,{'class' : 'catRatings firstEl clearfix'}).text\n",
    "                    return int(re.search(r'\\d+', temp).group())\n",
    "                except:\n",
    "                    return None\n",
    "\n",
    "        def set_ease_of_use (self, _rev_soup):\n",
    "                try:\n",
    "                    temp = _rev_soup.find('div' ,{'class' : 'catRatings clearfix'}).text\n",
    "                    return int(re.search(r'\\d+', temp).group())\n",
    "                except:\n",
    "                    return None\n",
    "\n",
    "        def set_satisfaction (self, _rev_soup):\n",
    "                try:\n",
    "                    temp = _rev_soup.find('div' ,{'class' : 'catRatings lastEl clearfix'}).text\n",
    "                    return int(re.search(r'\\d+', temp).group())\n",
    "                except:\n",
    "                    return None\n",
    "                \n",
    "        #from drugs.com        \n",
    "        def set_genRating  (self, _rev_soup):\n",
    "                    return None\n",
    "\n",
    "        def set_comment (self, _rev_soup, ik):\n",
    "                try: \n",
    "                    temp = _rev_soup.find('p', {'id':'comFull'+str(ik+1)}).text\n",
    "                    temp = re.split('Hide Full', temp)[0]\n",
    "                    return temp.lstrip('Comment:')\n",
    "                except:\n",
    "                    return None\n",
    "\n",
    "        def set_upVotes (self, _rev_soup):\n",
    "                try:\n",
    "                    temp = _rev_soup.find('p', {'class' : \"helpful\"}).text\n",
    "                    return int(re.search(r'\\d+', temp).group())\n",
    "                except:\n",
    "                    return None"
   ]
  },
  {
   "cell_type": "code",
   "execution_count": 9,
   "metadata": {
    "collapsed": false
   },
   "outputs": [],
   "source": [
    "# ************ Drugs.com ************  Parser\n",
    "\n",
    "# modified from source: \n",
    "# https://blog.nycdatascience.com/student-works/web-scraping/anti-epileptic-drug-review-analysis/\n",
    "\n",
    "class DrugsDotCom:\n",
    "    \n",
    "        def __init__(self, name):\n",
    "            self.name = name\n",
    "\n",
    "        # fetch information about author\n",
    "        def set_reviewerMeta (self, _rev_soup):\n",
    "                for tag in ['user-name user-type user-type-2_non_member', 'user-name user-type user-type-0_select_member']:\n",
    "                    try:\n",
    "                        MetaData = _rev_soup.find('p', {'class': tag}) \n",
    "                    except:\n",
    "                        MetaData = 2\n",
    "                if MetaData != 2:\n",
    "                    return MetaData\n",
    "                else:\n",
    "                    return 2\n",
    "\n",
    "                \n",
    "        def set_userName (self, _reviewerMeta):\n",
    "                try:\n",
    "                    return _reviewerMeta.b.get_text()\n",
    "                except:\n",
    "                    return None\n",
    "\n",
    "                \n",
    "        #need to fix this        \n",
    "        def set_ageRange (self, _reviewerMeta):\n",
    "                    try:\n",
    "                        return re.search('\\s\\w+[-]\\w+\\s', _reviewerMeta).group().strip()\n",
    "                    except:\n",
    "                        return None\n",
    "                    \n",
    "                    \n",
    "        #gender not specified on drugs.com\n",
    "        def set_gender (self, _reviewerMeta):\n",
    "                return None\n",
    "\n",
    "\n",
    "        def set_medDuration (self, _reviewerMeta):\n",
    "                try: \n",
    "                    return _reviewerMeta.find('span', {'class': 'small light'}).text()\n",
    "                except:\n",
    "                    return None\n",
    "\n",
    "                \n",
    "        def set_reviewDate (self, _reviewerMeta):\n",
    "                try:\n",
    "                    return _reviewerMeta.find('span', {'class': 'light comment-date'}).text()\n",
    "                except:\n",
    "                    return None\n",
    "                \n",
    "                \n",
    "        def set_condition (self, _rev_soup):\n",
    "                try:\n",
    "                    return _rev_soup.find('div', {'class':'user-comment'}).b.get_text()\n",
    "                except:\n",
    "                    return None\n",
    "                \n",
    "                \n",
    "        #from WebMD.com\n",
    "        def set_effectiveness (self, _rev_soup):\n",
    "                return None\n",
    "            \n",
    "            \n",
    "        #from WebMD.com\n",
    "        def set_ease_of_use (self, _rev_soup):\n",
    "                return None\n",
    "            \n",
    "            \n",
    "        #from WebMD.com\n",
    "        def set_satisfaction (self, _rev_soup):\n",
    "                return None\n",
    "\n",
    "            \n",
    "        def set_genRating (self, _rev_soup):        \n",
    "                try:\n",
    "                    return _rev_soup.find('div',{'class': 'rating-score'}).get_text()\n",
    "                except:\n",
    "                    return None\n",
    "\n",
    "\n",
    "        def set_comment (self, _rev_soup, ik):\n",
    "                try:\n",
    "                    return _rev_soup.find('div', {'class':'user-comment'}).span.get_text()\n",
    "                except:\n",
    "                    return None\n",
    "\n",
    "\n",
    "        def set_upVotes (self, _rev_soup):\n",
    "                try: \n",
    "                    temp = _rev_soup.find('p', {'class': 'note'}).b.get_text()\n",
    "                    return int(re.search(r'\\d+', temp).group())\n",
    "                except:\n",
    "                    return None\n"
   ]
  },
  {
   "cell_type": "code",
   "execution_count": 10,
   "metadata": {
    "collapsed": true
   },
   "outputs": [],
   "source": [
    "# Review object\n",
    "class review(drug):\n",
    "    \n",
    "        def __init__(self, drug, _review_soup, site, ik):\n",
    "            \n",
    "            reviewer_info = site.set_reviewerMeta(_review_soup)\n",
    "            self.drugName = drug.name\n",
    "            self.site = site.name\n",
    "            self.condition = site.set_condition(_review_soup)\n",
    "            self.reviewDate = site.set_reviewDate(_review_soup)\n",
    "            self.userName = site.set_userName(reviewer_info) #temp.split(',')[0]\n",
    "            self.ageRange = site.set_ageRange(reviewer_info) #re.search('\\s\\w+[-]\\w+\\s', temp).group().strip()\n",
    "            self.gender = site.set_gender(reviewer_info) #re.split('\\s\\w+[-]\\w+\\s', temp)[1].split()[0]\n",
    "            self.medDuration = site.set_medDuration(reviewer_info) #re.split('on Treatment for ', temp)[1].split('(Patient)')[0].strip()\n",
    "            self.effectiveness = site.set_effectiveness(_review_soup)\n",
    "            self.ease_of_use = site.set_ease_of_use(_review_soup)\n",
    "            self.satisfaction = site.set_satisfaction(_review_soup)\n",
    "            self.genRating = site.set_genRating(_review_soup)\n",
    "            self.comment = site.set_comment(_review_soup, ik)\n",
    "            self.upVotes = site.set_upVotes(_review_soup)"
   ]
  },
  {
   "cell_type": "markdown",
   "metadata": {},
   "source": [
    "Two test cases below:\n",
    "    1.) Abilify with WebMD\n",
    "    2.) Methuylphenidate with Drugs.com\n",
    "    \n",
    "the code uses url_stem and range of pages to generate a url list, then goes and scrapes those pages,\n",
    "and parses them into reviews"
   ]
  },
  {
   "cell_type": "code",
   "execution_count": 31,
   "metadata": {
    "collapsed": false
   },
   "outputs": [],
   "source": [
    "### WebMD Abilify test case\n",
    "\n",
    "abilify_stem = '64439-Abilify-oral.aspx?drugid=64439&drugname=Abilify-oral'\n",
    "abilify = drug('abilify', abilify_stem)\n",
    "abilify_Soup = scraper(WebMD_url_list(abilify.url_stem, 0, 2))\n",
    "\n",
    "webMD_parser = WebMD('webMD')\n",
    "webMD_tag = 'userPost'\n",
    "parse_reviews(abilify_Soup, webMD_tag, abilify, webMD_parser)"
   ]
  },
  {
   "cell_type": "code",
   "execution_count": 11,
   "metadata": {
    "collapsed": false
   },
   "outputs": [],
   "source": [
    "# Drugs.com test\n",
    "\n",
    "meth_stem = 'methylphenidate'\n",
    "meth = drug('methylphenidate', meth_stem)\n",
    "meth_Soup = scraper(Drugs_url_list(meth.url_stem, 0, 2))\n",
    "\n",
    "drugs_tag = 'block-wrap comment-wrap'\n",
    "drugs_parser = DrugsDotCom('drugsDotCom')\n",
    "parse_reviews(meth_Soup, drugs_tag, meth, drugs_parser)"
   ]
  },
  {
   "cell_type": "code",
   "execution_count": 15,
   "metadata": {
    "collapsed": false
   },
   "outputs": [
    {
     "name": "stdout",
     "output_type": "stream",
     "text": [
      "{'drugName': 'methylphenidate', 'site': 'drugsDotCom', 'condition': 'For ADHD:', 'reviewDate': None, 'userName': None, 'ageRange': None, 'gender': None, 'medDuration': None, 'effectiveness': None, 'ease_of_use': None, 'satisfaction': None, 'genRating': None, 'comment': '\"I\\'m 49 years old and recently diagnosed with ADHD.  My doctor put me on this medication 18mg about a month ago, I feel somewhat better not quite totally better still have trouble staying focused my anxiety is all but gone so thats great.  I\\'ve stopped biting my nails and clenching my teeth, but I always heard that you lose weight on this medicine, but I feel like I\\'m gaining weight - actually I am, and I don\\'t stop eating not big meals but I\\'m constantly eating something! even after a meal.  Is that normal? I can\\'t find anywhere where it says that you can gain weight...\"', 'upVotes': 0}\n",
      "----------\n",
      "{'drugName': 'methylphenidate', 'site': 'drugsDotCom', 'condition': 'Concerta (methylphenidate) for ADHD:', 'reviewDate': None, 'userName': None, 'ageRange': None, 'gender': None, 'medDuration': None, 'effectiveness': None, 'ease_of_use': None, 'satisfaction': None, 'genRating': '2.0', 'comment': '\"I am a 20 y/o girl. I was on 54 mg of Concerta once a day. This drug was the worst thing thats ever happened to me. It did help my grades but I felt most of it was placebo and the fact that the side effects were so horrible I wanted to focus on work to distract myself. It made my anxiety unbearable and constant. My heart beat in my head. My whole left arm and pinky would feel numb and prickly. I knew I was hungry but could not eat and was disgusted by food. I fell into a horrible depression and felt just overwhelming darkness. The pros was that it made sitting in long classes and retaining information much easier. I felt excited about learning and getting work done. Overall it helped with school but the side effects are not worth it.\"', 'upVotes': 5}\n",
      "----------\n",
      "{'drugName': 'methylphenidate', 'site': 'drugsDotCom', 'condition': 'Aptensio XR (methylphenidate) for ADHD:', 'reviewDate': None, 'userName': None, 'ageRange': None, 'gender': None, 'medDuration': None, 'effectiveness': None, 'ease_of_use': None, 'satisfaction': None, 'genRating': None, 'comment': '\"Both my daughters are on aptensio my 12 year old is on 50mg and 9 year old 20 mg. My 12 year old is 4\\'11 , 80 pounds. She eats and eats and eats all day. She\\'s constantly hungry and still having problems in school! Also notice she has mood swings and gets mad more easily! I feel helps hyper part , but not fully helping focusing, she been on it over a year now! My 9 year old eats I would say normal! Helps her with focus and hyper. So I would say definitely helps her.\"', 'upVotes': 1}\n",
      "----------\n"
     ]
    }
   ],
   "source": [
    "# prints review objects for inspection\n",
    "\n",
    "for reviewx in meth.reviews[0:3]:\n",
    "    print(reviewx.__dict__)\n",
    "    print('----------')"
   ]
  },
  {
   "cell_type": "code",
   "execution_count": null,
   "metadata": {
    "collapsed": true
   },
   "outputs": [],
   "source": []
  }
 ],
 "metadata": {
  "kernelspec": {
   "display_name": "Python 3",
   "language": "python",
   "name": "python3"
  },
  "language_info": {
   "codemirror_mode": {
    "name": "ipython",
    "version": 3
   },
   "file_extension": ".py",
   "mimetype": "text/x-python",
   "name": "python",
   "nbconvert_exporter": "python",
   "pygments_lexer": "ipython3",
   "version": "3.6.1"
  }
 },
 "nbformat": 4,
 "nbformat_minor": 2
}
