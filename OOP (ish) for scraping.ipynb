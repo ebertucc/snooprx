{
 "cells": [
  {
   "cell_type": "code",
   "execution_count": 1,
   "metadata": {
    "collapsed": true
   },
   "outputs": [],
   "source": [
    "from bs4 import BeautifulSoup as bf\n",
    "import requests\n",
    "import re"
   ]
  },
  {
   "cell_type": "code",
   "execution_count": 2,
   "metadata": {
    "collapsed": true
   },
   "outputs": [],
   "source": [
    "def load_soup(url):\n",
    "    html = requests.get(url).text\n",
    "    soup = bf(html, 'html5lib')\n",
    "    return soup"
   ]
  },
  {
   "cell_type": "code",
   "execution_count": 3,
   "metadata": {
    "collapsed": true
   },
   "outputs": [],
   "source": [
    "# builds url lists specific to the site\n",
    "def Drugs_url_list(drug_stem, pg_init, pg_n):\n",
    "    url_c = ['https://www.drugs.com/comments/', '/?page=']\n",
    "    url_list = [url_c[0] + drug_stem + url_c[1] +str(ik) for ik in range(pg_init, pg_n+1)]\n",
    "    return url_list\n",
    "\n",
    "def WebMD_url_list(drug_stem, pg_init, pg_n):\n",
    "    url_c = ['https://www.webmd.com/drugs/drugreview-', '&pageIndex=', '&sortby=3&conditionFilter=-500' ]\n",
    "    url_list = [url_c[0] + drug_stem + url_c[1] +str(ik) + url_c[2] for ik in range(pg_init, pg_n+1)]\n",
    "    return url_list\n",
    "    "
   ]
  },
  {
   "cell_type": "code",
   "execution_count": 4,
   "metadata": {
    "collapsed": true
   },
   "outputs": [],
   "source": [
    "# takes url list, scrapes, returns pages of soup\n",
    "def scraper(url_list):\n",
    "    soup_list = []\n",
    "    for url in url_list:\n",
    "        soup_list.append( [url, load_soup(url)])\n",
    "    return soup_list "
   ]
  },
  {
   "cell_type": "code",
   "execution_count": 5,
   "metadata": {
    "collapsed": true
   },
   "outputs": [],
   "source": [
    "# uses methods from the two parser classes to slice and dice soup into review objects\n",
    "def parse_reviews(pages, tag, drug, parser):\n",
    "    print(len(pages))\n",
    "    for page in pages:\n",
    "        rev_stew = page[1].find_all('div' ,{'class' : tag})\n",
    "        for ik, item in enumerate(rev_stew):\n",
    "            new_review = review(drug, item, parser, ik)\n",
    "            drug.reviews.append(new_review)\n",
    "        break"
   ]
  },
  {
   "cell_type": "code",
   "execution_count": 6,
   "metadata": {
    "collapsed": true
   },
   "outputs": [],
   "source": [
    "# each drug has a name and a url_stem\n",
    "class drug:\n",
    "    \n",
    "    def __init__(self, name, url_stem):\n",
    "        self.name = name\n",
    "        self.url_stem = url_stem\n",
    "        self.reviews = []"
   ]
  },
  {
   "cell_type": "code",
   "execution_count": 66,
   "metadata": {
    "collapsed": false
   },
   "outputs": [],
   "source": [
    "# ************ Drugs.com ************  Parser\n",
    "\n",
    "# modified from source: \n",
    "# https://blog.nycdatascience.com/student-works/web-scraping/anti-epileptic-drug-review-analysis/\n",
    "\n",
    "class DrugsDotCom:\n",
    "    \n",
    "        def __init__(self, name):\n",
    "            self.name = name\n",
    "\n",
    "        # fetch information about author;\n",
    "        # bug fix: added a tag to the tags list.  There may be more lurking...\n",
    "        def set_reviewerMeta (self, _rev_soup, ik):\n",
    "            tags = ['user-name user-type user-type-2_non_member', 'user-name user-type user-type-1_standard_member','user-name user-type user-type-0_select_member']\n",
    "            if _rev_soup.find('p', {'class': tags[0]}):\n",
    "                return _rev_soup.find('p', {'class': tags[0]})\n",
    "            elif _rev_soup.find('p', {'class': tags[1]}):\n",
    "                return _rev_soup.find('p', {'class': tags[1]})\n",
    "            elif _rev_soup.find('p', {'class': tags[2]}):\n",
    "                return _rev_soup.find('p', {'class': tags[2]})\n",
    "            else:\n",
    "                return None\n",
    "#                         print(tag)\n",
    "#                         return _rev_soup.find('p', {'class': tag}) \n",
    "#                     except:\n",
    "#                         print(MetaData)\n",
    "#                         MetaData = 2\n",
    "#                 return MetaData\n",
    "#                 for tag in ['user-name user-type user-type-2_non_member', 'user-name user-type user-type-0_select_member']:\n",
    "#                     try:\n",
    "#                         print(tag)\n",
    "#                         return _rev_soup.find('p', {'class': tag}) \n",
    "#                     except:\n",
    "#                         print(MetaData)\n",
    "#                         MetaData = 2\n",
    "#                 return MetaData\n",
    "#                 if MetaData != 2:\n",
    "#                     print(MetaData)\n",
    "#                     return MetaData\n",
    "#                 else:\n",
    "#                     return 2\n",
    "\n",
    "            \n",
    "        def set_userName (self, _reviewerMeta):\n",
    "                try:\n",
    "                    print(_reviewerMeta.contents[0])\n",
    "#                     print(_reviewerMeta.b.get_text())\n",
    "#                     return _reviewerMeta.b.get_text()\n",
    "                    return _reviewerMeta.contents[0].strip()\n",
    "                except:\n",
    "                    return None\n",
    "\n",
    "                \n",
    "        #need to fix this        \n",
    "        def set_ageRange (self, _reviewerMeta):\n",
    "                    try:\n",
    "                        return re.search('\\s\\w+[-]\\w+\\s', _reviewerMeta).group().strip()\n",
    "                    except:\n",
    "                        return None\n",
    "                    \n",
    "                    \n",
    "        #gender not specified on drugs.com\n",
    "        def set_gender (self, _reviewerMeta):\n",
    "                return None\n",
    "            \n",
    "        #role not specified on drugs.com\n",
    "        def set_role(self, _rev_soup):\n",
    "            return None\n",
    "            \n",
    "        def set_medDuration (self, _reviewerMeta):\n",
    "                try: \n",
    "                    print('med duration: ', _reviewerMeta.find_all('span', {'class':'small light'})[0].text.replace('(', '').replace(')', '').replace('taken for ', ''))\n",
    "#                     print(reviewerDates[0])\n",
    "#                     print('med duration: ', reviewerDates[0].contents[0].replace('(', '').replace(')', '').replace('taken for ', ''))\n",
    "                    return _reviewerMeta.find_all('span', {'class':'small light'})[0].text.replace('(', '').replace(')', '').replace('taken for ', '')\n",
    "#                     return _reviewerMeta.find('span', {'class': 'small light'}).text()\n",
    "                except:\n",
    "                    return None\n",
    "\n",
    "                \n",
    "        def set_reviewDate (self, _reviewerMeta):\n",
    "                try:\n",
    "                    print('review date: ' ,_reviewerMeta.find_all('span', {'class':'light comment-date'})[0].text)\n",
    "                    return _reviewerMeta.find_all('span', {'class':'light comment-date'})[0].text\n",
    "#                     return _reviewerMeta.find('span', {'class': 'light comment-date'}).text()\n",
    "                except:\n",
    "                    return None\n",
    "                \n",
    "                \n",
    "        def set_condition (self, _rev_soup):\n",
    "                try:\n",
    "                    return _rev_soup.find('div', {'class':'user-comment'}).b.get_text()\n",
    "                except:\n",
    "                    return None\n",
    "                \n",
    "                \n",
    "        #from WebMD.com\n",
    "        def set_effectiveness (self, _rev_soup):\n",
    "                return None\n",
    "            \n",
    "            \n",
    "        #from WebMD.com\n",
    "        def set_ease_of_use (self, _rev_soup):\n",
    "                return None\n",
    "            \n",
    "            \n",
    "        #from WebMD.com\n",
    "        def set_satisfaction (self, _rev_soup):\n",
    "                return None\n",
    "\n",
    "            \n",
    "        def set_genRating (self, _rev_soup):        \n",
    "                try:\n",
    "                    return _rev_soup.find('div',{'class': 'rating-score'}).get_text()\n",
    "                except:\n",
    "                    return None\n",
    "\n",
    "\n",
    "        def set_comment (self, _rev_soup, ik):\n",
    "                try:\n",
    "                    return _rev_soup.find('div', {'class':'user-comment'}).span.get_text()\n",
    "                except:\n",
    "                    return None\n",
    "\n",
    "\n",
    "        def set_upVotes (self, _rev_soup):\n",
    "                try: \n",
    "                    temp = _rev_soup.find('p', {'class': 'note'}).b.get_text()\n",
    "                    return int(re.search(r'\\d+', temp).group())\n",
    "                except:\n",
    "                    return None\n"
   ]
  },
  {
   "cell_type": "code",
   "execution_count": 69,
   "metadata": {
    "collapsed": true
   },
   "outputs": [],
   "source": [
    "# ************ webMD.com ************ Parser\n",
    "\n",
    "class WebMD:\n",
    "    \n",
    "        def __init__(self, name):\n",
    "            self.name = name\n",
    "\n",
    "            \n",
    "        def set_reviewerMeta (self, _rev_soup, ik):\n",
    "            try:\n",
    "                return _rev_soup.find('p', {'class':'reviewerInfo'}).text.strip('Reviewer: ')\n",
    "            except:\n",
    "                print(_rev_soup)\n",
    "                return None\n",
    "            \n",
    "        #below takes reviewer soup\n",
    "        def set_userName (self, _reviewerMeta):\n",
    "            try:\n",
    "                return _reviewerMeta.split(',')[0]\n",
    "            except:\n",
    "                return None\n",
    "\n",
    "        def set_ageRange (self, _reviewerMeta):\n",
    "            try:\n",
    "                return re.search('\\s\\w+[-]\\w+\\s', _reviewerMeta).group().strip()\n",
    "            except:\n",
    "                return None\n",
    "\n",
    "        def set_gender (self, _reviewerMeta):\n",
    "            try: \n",
    "                return re.split('\\s\\w+[-]\\w+\\s', _reviewerMeta)[1].split()[0]\n",
    "            except: \n",
    "                return None\n",
    "        \n",
    "        def set_role(self, _rev_soup):\n",
    "            try:\n",
    "                return _rev_soup.find('p', {'class':'reviewerInfo'}).text.strip('Reviewer: ').split(' ')[-1].replace('(','').replace(')','')\n",
    "            except:\n",
    "                return None\n",
    "            \n",
    "        def set_medDuration (self, _reviewerMeta):\n",
    "            try:\n",
    "                return re.split('on Treatment for ', _reviewerMeta)[1].split('(Patient)')[0].strip()\n",
    "            except:\n",
    "                return None\n",
    "            \n",
    "        #below takes full soup\n",
    "        #untested for webMD\n",
    "        def set_reviewDate  (self, _rev_soup):\n",
    "            try:\n",
    "                return _rev_soup.find('div', {'class': 'date'}).text.split(' ',1)[0]\n",
    "\n",
    "            except:\n",
    "                return None\n",
    "                \n",
    "        def set_condition (self, _rev_soup):\n",
    "            try:\n",
    "                condition = _rev_soup.find('div', {'class': 'conditionInfo'}).text\n",
    "                temp = condition.split('Condition: ')[1]\n",
    "                return temp\n",
    "            except:\n",
    "                return None\n",
    "                \n",
    "        def set_effectiveness (self, _rev_soup):\n",
    "                try:\n",
    "                    temp = _rev_soup.find('div' ,{'class' : 'catRatings firstEl clearfix'}).text\n",
    "                    return int(re.search(r'\\d+', temp).group())\n",
    "                except:\n",
    "                    return None\n",
    "\n",
    "        def set_ease_of_use (self, _rev_soup):\n",
    "                try:\n",
    "                    temp = _rev_soup.find('div' ,{'class' : 'catRatings clearfix'}).text\n",
    "                    return int(re.search(r'\\d+', temp).group())\n",
    "                except:\n",
    "                    return None\n",
    "\n",
    "        def set_satisfaction (self, _rev_soup):\n",
    "                try:\n",
    "                    temp = _rev_soup.find('div' ,{'class' : 'catRatings lastEl clearfix'}).text\n",
    "                    return int(re.search(r'\\d+', temp).group())\n",
    "                except:\n",
    "                    return None\n",
    "                \n",
    "        #from drugs.com        \n",
    "        def set_genRating  (self, _rev_soup):\n",
    "                    return None\n",
    "\n",
    "        def set_comment (self, _rev_soup, ik):\n",
    "                try: \n",
    "                    temp = _rev_soup.find('p', {'id':'comFull'+str(ik+1)}).text\n",
    "                    temp = re.split('Hide Full', temp)[0]\n",
    "                    return temp.lstrip('Comment:')\n",
    "                except:\n",
    "                    return None\n",
    "\n",
    "        def set_upVotes (self, _rev_soup):\n",
    "                try:\n",
    "                    temp = _rev_soup.find('p', {'class' : \"helpful\"}).text\n",
    "                    return int(re.search(r'\\d+', temp).group())\n",
    "                except:\n",
    "                    return None"
   ]
  },
  {
   "cell_type": "code",
   "execution_count": 70,
   "metadata": {
    "collapsed": false
   },
   "outputs": [],
   "source": [
    "# Review object\n",
    "class review(drug):\n",
    "    \n",
    "        def __init__(self, drug, _review_soup, site, ik):\n",
    "            \n",
    "            reviewer_info = site.set_reviewerMeta(_review_soup, ik)\n",
    "#             reviewer_dates = site.set_reviewerDates(reviewer_info)\n",
    "            print(reviewer_info)\n",
    "            self.drugName = drug.name\n",
    "            self.site = site.name\n",
    "            self.condition = site.set_condition(_review_soup)\n",
    "            self.reviewDate = site.set_reviewDate(_review_soup)\n",
    "            self.userName = site.set_userName(reviewer_info) #temp.split(',')[0]\n",
    "            print(self.reviewDate)\n",
    "            self.ageRange = site.set_ageRange(reviewer_info) #re.search('\\s\\w+[-]\\w+\\s', temp).group().strip()\n",
    "            self.gender = site.set_gender(reviewer_info) #re.split('\\s\\w+[-]\\w+\\s', temp)[1].split()[0]\n",
    "            self.role = site.set_role(_review_soup)\n",
    "            self.medDuration = site.set_medDuration(reviewer_info) #re.split('on Treatment for ', temp)[1].split('(Patient)')[0].strip()\n",
    "            self.effectiveness = site.set_effectiveness(_review_soup)\n",
    "            self.ease_of_use = site.set_ease_of_use(_review_soup)\n",
    "            self.satisfaction = site.set_satisfaction(_review_soup)\n",
    "            self.genRating = site.set_genRating(_review_soup)\n",
    "            self.comment = site.set_comment(_review_soup, ik)\n",
    "            self.upVotes = site.set_upVotes(_review_soup)"
   ]
  },
  {
   "cell_type": "markdown",
   "metadata": {},
   "source": [
    "Two test cases below:\n",
    "    1.) Abilify with WebMD\n",
    "    2.) Methylphenidate with Drugs.com\n",
    "    \n",
    "the code uses url_stem and range of pages to generate a url list, then goes and scrapes those pages,\n",
    "and parses them into reviews"
   ]
  },
  {
   "cell_type": "markdown",
   "metadata": {},
   "source": [
    "### WebMD Abilify test case"
   ]
  },
  {
   "cell_type": "code",
   "execution_count": 42,
   "metadata": {
    "collapsed": false
   },
   "outputs": [],
   "source": [
    "# Get Abilify Soup\n",
    "abilify_stem = '64439-Abilify-oral.aspx?drugid=64439&drugname=Abilify-oral'\n",
    "abilify = drug('abilify', abilify_stem)\n",
    "abilify_Soup = scraper(WebMD_url_list(abilify.url_stem, 0, 2))"
   ]
  },
  {
   "cell_type": "code",
   "execution_count": 71,
   "metadata": {
    "collapsed": false
   },
   "outputs": [
    {
     "name": "stdout",
     "output_type": "stream",
     "text": [
      "3\n",
      "caner1, 65-74 Female  on Treatment for 1 to 6 months (Patient)\n",
      "10/15/2017\n",
      "Zak, 65-74 on Treatment for 2 to less than 5 years (Patient)\n",
      "10/2/2017\n",
      "35-44 on Treatment for 1 to less than 2 years (Patient)\n",
      "7/22/2017\n",
      "OakvilleGirl25, 55-64 Female  on Treatment for less than 1 month (Patient)\n",
      "6/22/2017\n",
      "Pisces, 55-64 Female  on Treatment for 5 to less than 10 years (Patient)\n",
      "3/19/2017\n"
     ]
    }
   ],
   "source": [
    "# Parse Abilify Soup\n",
    "abilify = drug('abilify', abilify_stem)\n",
    "webMD_parser = WebMD('webMD')\n",
    "webMD_tag = 'userPost'\n",
    "parse_reviews(abilify_Soup, webMD_tag, abilify, webMD_parser)"
   ]
  },
  {
   "cell_type": "code",
   "execution_count": 72,
   "metadata": {
    "collapsed": false
   },
   "outputs": [
    {
     "name": "stdout",
     "output_type": "stream",
     "text": [
      "drugName : abilify\n",
      "site : webMD\n",
      "condition : Additional Medications to Treat Depression\n",
      "reviewDate : 10/15/2017\n",
      "userName : caner1\n",
      "ageRange : 65-74\n",
      "gender : Female\n",
      "role : Patient\n",
      "medDuration : 1 to 6 months\n",
      "effectiveness : 2\n",
      "ease_of_use : 3\n",
      "satisfaction : 1\n",
      "genRating : None\n",
      "comment : Terrible made me clench my teeth and rock back & forth. Two yrs later I still do it. Terrible side effects for me. not recommended by me.\n",
      "upVotes : 2\n",
      "----------\n",
      "\n",
      "drugName : abilify\n",
      "site : webMD\n",
      "condition : Additional Medications to Treat Depression\n",
      "reviewDate : 10/2/2017\n",
      "userName : Zak\n",
      "ageRange : 65-74\n",
      "gender : on\n",
      "role : Patient\n",
      "medDuration : 2 to less than 5 years\n",
      "effectiveness : 2\n",
      "ease_of_use : 2\n",
      "satisfaction : 1\n",
      "genRating : None\n",
      "comment : I was put on abilify for depression along with Lexapro.  At first there was no side affects.  Then after about 2 years I gained about 90 pounds.  Also my right hand began to shake.  But the worst thing was not being able to control my bowel movements.  The thing is I did not realize it was the abilify causing these problems.  The way I figured out the cause was I ran out of abilify and was off it for about a week.  I started regaining control of my bowels (this is one thing they don't list as a side affect).  That had to be the most embarrassing period of my life.  Since I quit taking the drug I lost 80 pounds and my hand stopped shaking.  But best of all I have control of my bowels.  They say the drug has different affects on people but it's not the drug for me.  To those that it helped I say hurrah but I've read more negative comments than positive.\n",
      "upVotes : 8\n",
      "----------\n",
      "\n",
      "drugName : abilify\n",
      "site : webMD\n",
      "condition : Additional Medications to Treat Depression\n",
      "reviewDate : 7/22/2017\n",
      "userName : 35-44 on Treatment for 1 to less than 2 years (Patient)\n",
      "ageRange : None\n",
      "gender : None\n",
      "role : Patient\n",
      "medDuration : 1 to less than 2 years\n",
      "effectiveness : 5\n",
      "ease_of_use : 5\n",
      "satisfaction : 5\n",
      "genRating : None\n",
      "comment : I have suffered with chronic depression for most of my life. I have tried almost every antidepressant out there with varying degrees of success. I currently take 90 mgs of Cymbalta every day. While it is somewhat effective for me I still suffered greatly from nagging depression. It wasn't until my psychiatrist added Abilify that I experienced almost complete relief of my depression. Within two weeks I was feeling better than I have in many years. The feelings of sadness are gone and I wake up feeling ready to face the day. It has helped me tremendously. For me, this drug has worked miracles I never thought possible. \n",
      "upVotes : 22\n",
      "----------\n",
      "\n",
      "drugName : abilify\n",
      "site : webMD\n",
      "condition : Additional Medications to Treat Depression\n",
      "reviewDate : 6/22/2017\n",
      "userName : OakvilleGirl25\n",
      "ageRange : 55-64\n",
      "gender : Female\n",
      "role : Patient\n",
      "medDuration : less than 1 month\n",
      "effectiveness : 5\n",
      "ease_of_use : 5\n",
      "satisfaction : 5\n",
      "genRating : None\n",
      "comment : This medication (as an add on to Citalopram) makes me want to get up early every day and be productive.  I feel happier than I ever thought possible with the addition of this med (having dealt with minor chronic depression for most of my adult life).\n",
      "upVotes : 23\n",
      "----------\n",
      "\n",
      "drugName : abilify\n",
      "site : webMD\n",
      "condition : Additional Medications to Treat Depression\n",
      "reviewDate : 3/19/2017\n",
      "userName : Pisces\n",
      "ageRange : 55-64\n",
      "gender : Female\n",
      "role : Patient\n",
      "medDuration : 5 to less than 10 years\n",
      "effectiveness : 5\n",
      "ease_of_use : 5\n",
      "satisfaction : 5\n",
      "genRating : None\n",
      "comment : I used to be extremely impatient, irritable and had frequent anger bursts.\n",
      "After I started Abilify 5mg together with Bupropion 300mg I radically changed. Now I am extremely patient, but I miss my old self as a go-getter. Anyway my family is thankful I am under treatment so I can manage my life more wisely.\n",
      "upVotes : 19\n",
      "----------\n",
      "\n"
     ]
    }
   ],
   "source": [
    "# prints review objects for inspection\n",
    "\n",
    "for reviewx in abilify.reviews[0:10]:\n",
    "    for key in reviewx.__dict__:\n",
    "        print(key, ':', reviewx.__dict__[key])\n",
    "    print('----------')\n",
    "    print('')"
   ]
  },
  {
   "cell_type": "code",
   "execution_count": 43,
   "metadata": {
    "collapsed": false
   },
   "outputs": [
    {
     "data": {
      "text/plain": [
       "'Reviewer: 55-64 Female  on Treatment for less than 1 month (Patient) '"
      ]
     },
     "execution_count": 43,
     "metadata": {},
     "output_type": "execute_result"
    }
   ],
   "source": [
    "#trouble shoot patient metadata\n",
    "abilify_Soup[0][1].find('p', {'class':'reviewerInfo'}).text\n",
    "rev_stew[1].find('p', {'class':'reviewerInfo'}).text"
   ]
  },
  {
   "cell_type": "code",
   "execution_count": null,
   "metadata": {
    "collapsed": false
   },
   "outputs": [],
   "source": [
    "for page in abilify_Soup:\n",
    "        rev_stew = page[1].find_all('div' ,{'class' : webMD_tag})\n",
    "        for ik, item in enumerate(rev_stew):\n",
    "            print(item)\n",
    "            break"
   ]
  },
  {
   "cell_type": "markdown",
   "metadata": {},
   "source": [
    "### Drugs.com Meth test case"
   ]
  },
  {
   "cell_type": "code",
   "execution_count": 9,
   "metadata": {
    "collapsed": false
   },
   "outputs": [],
   "source": [
    "# Drugs.com test\n",
    "\n",
    "meth_stem = 'methylphenidate'\n",
    "meth = drug('methylphenidate', meth_stem)\n",
    "meth_Soup = scraper(Drugs_url_list(meth.url_stem, 0, 2))"
   ]
  },
  {
   "cell_type": "code",
   "execution_count": null,
   "metadata": {
    "collapsed": false
   },
   "outputs": [],
   "source": [
    "meth = drug('methylphenidate', meth_stem)\n",
    "drugs_tag = 'block-wrap comment-wrap'\n",
    "drugs_parser = DrugsDotCom('drugsDotCom')\n",
    "parse_reviews(meth_Soup, drugs_tag, meth, drugs_parser)"
   ]
  },
  {
   "cell_type": "code",
   "execution_count": 1,
   "metadata": {
    "collapsed": true
   },
   "outputs": [],
   "source": [
    "# Pickle Soup (at the very least--work on pickling objects (?) later)"
   ]
  },
  {
   "cell_type": "code",
   "execution_count": 19,
   "metadata": {
    "collapsed": true
   },
   "outputs": [],
   "source": []
  },
  {
   "cell_type": "code",
   "execution_count": null,
   "metadata": {
    "collapsed": true
   },
   "outputs": [],
   "source": [
    "# Work on cleanup:\n",
    "            self.drugName = drug.name\n",
    "            self.site = site.name\n",
    "            self.condition = site.set_condition(_review_soup)\n",
    "            self.reviewDate = site.set_reviewDate(_review_soup)\n",
    "            self.userName = site.set_userName(reviewer_info) #temp.split(',')[0]\n",
    "            self.ageRange = site.set_ageRange(reviewer_info) #re.search('\\s\\w+[-]\\w+\\s', temp).group().strip()\n",
    "            self.gender = site.set_gender(reviewer_info) #re.split('\\s\\w+[-]\\w+\\s', temp)[1].split()[0]\n",
    "            self.medDuration = site.set_medDuration(reviewer_info) #re.split('on Treatment for ', temp)[1].split('(Patient)')[0].strip()\n",
    "            self.effectiveness = site.set_effectiveness(_review_soup)\n",
    "            self.ease_of_use = site.set_ease_of_use(_review_soup)\n",
    "            self.satisfaction = site.set_satisfaction(_review_soup)\n",
    "            self.genRating = site.set_genRating(_review_soup)\n",
    "            self.comment = site.set_comment(_review_soup, ik)\n",
    "            self.upVotes = site.set_upVotes(_review_soup)"
   ]
  },
  {
   "cell_type": "code",
   "execution_count": null,
   "metadata": {
    "collapsed": true
   },
   "outputs": [],
   "source": []
  }
 ],
 "metadata": {
  "kernelspec": {
   "display_name": "Python 3",
   "language": "python",
   "name": "python3"
  },
  "language_info": {
   "codemirror_mode": {
    "name": "ipython",
    "version": 3
   },
   "file_extension": ".py",
   "mimetype": "text/x-python",
   "name": "python",
   "nbconvert_exporter": "python",
   "pygments_lexer": "ipython3",
   "version": "3.6.1"
  }
 },
 "nbformat": 4,
 "nbformat_minor": 2
}
