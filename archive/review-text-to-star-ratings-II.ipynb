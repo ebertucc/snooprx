{
 "cells": [
  {
   "cell_type": "markdown",
   "metadata": {},
   "source": [
    "\"Standard datasets are used to train natural language models... when crunched by a model, the output reflects quirks in the algorithm rather then the data.\"\n",
    "\n",
    "This notebook contains feature extraction, weighting, and modeling portions of the drug-review-text-to-star-rating prediction project. Other aspects of the process--e.g., scraping, cleaning, or visualizing the data--are not included here. Furthermore, there are many possible directions this project can go (re: feature/model selection, weighting, etc.); this is but a starting place. Plus it only looks at \"satisfaction\" ratings for now.\n",
    "\n",
    "Feature extraction is handled by sklearn's CountVectorizer function. For now, we're using it to tokenize our review text data into unigrams (words) and bigrams (pairs of words). These fatures are then weighted by tf-idf scores (term frequency-inverse document frequency, so a token that shows up in a lot of documents isn't given much weight, but an otherwise rare token showing up many times in the same document is heavily weighted).\n",
    "\n",
    "We then pass the features into a couple different classifier models and see how they perform.\n",
    "\n",
    "```\n",
    "QUESTIONS/TODO:\n",
    "    Why use CountVectorizer if we're going to be using tfidf? sklearn has a TfIdfVectorizer function.\n",
    "    How is performance measured? What is that cross validation metric that's being spewed out? Is it accuracy?\n",
    "    How to use a regression model instead of classifiers?\n",
    "    Use non-deprecated modules instead of cross_validation.\n",
    "    How should models be evaluated? Accuracy alone isn't necessarily the best; should explore the data first and see\n",
    "        how skewed it is towards any given star rating. Also try precision/recall/F1.          \n",
    "```\n",
    "    "
   ]
  },
  {
   "cell_type": "code",
   "execution_count": 2,
   "metadata": {
    "collapsed": false
   },
   "outputs": [
    {
     "ename": "TypeError",
     "evalue": "'review' object is not subscriptable",
     "output_type": "error",
     "traceback": [
      "\u001b[0;31m---------------------------------------------------------------------------\u001b[0m",
      "\u001b[0;31mTypeError\u001b[0m                                 Traceback (most recent call last)",
      "\u001b[0;32m<ipython-input-2-658ce091c3f2>\u001b[0m in \u001b[0;36m<module>\u001b[0;34m()\u001b[0m\n\u001b[1;32m      6\u001b[0m     \u001b[0mdata\u001b[0m \u001b[1;33m=\u001b[0m \u001b[0mpickle\u001b[0m\u001b[1;33m.\u001b[0m\u001b[0mload\u001b[0m\u001b[1;33m(\u001b[0m\u001b[0mf\u001b[0m\u001b[1;33m)\u001b[0m\u001b[1;33m\u001b[0m\u001b[0m\n\u001b[1;32m      7\u001b[0m \u001b[1;33m\u001b[0m\u001b[0m\n\u001b[0;32m----> 8\u001b[0;31m \u001b[0mreviews\u001b[0m \u001b[1;33m=\u001b[0m \u001b[1;33m[\u001b[0m\u001b[0mdatum\u001b[0m\u001b[1;33m[\u001b[0m\u001b[1;34m'comment'\u001b[0m\u001b[1;33m]\u001b[0m \u001b[1;32mfor\u001b[0m \u001b[0mdatum\u001b[0m \u001b[1;32min\u001b[0m \u001b[0mdata\u001b[0m\u001b[1;33m]\u001b[0m\u001b[1;33m\u001b[0m\u001b[0m\n\u001b[0m\u001b[1;32m      9\u001b[0m \u001b[0msatisfaction_ratings\u001b[0m \u001b[1;33m=\u001b[0m \u001b[1;33m[\u001b[0m\u001b[0mdatum\u001b[0m\u001b[1;33m[\u001b[0m\u001b[1;34m'satisfaction'\u001b[0m\u001b[1;33m]\u001b[0m \u001b[1;32mfor\u001b[0m \u001b[0mdatum\u001b[0m \u001b[1;32min\u001b[0m \u001b[0mdata\u001b[0m\u001b[1;33m]\u001b[0m\u001b[1;33m\u001b[0m\u001b[0m\n",
      "\u001b[0;32m<ipython-input-2-658ce091c3f2>\u001b[0m in \u001b[0;36m<listcomp>\u001b[0;34m(.0)\u001b[0m\n\u001b[1;32m      6\u001b[0m     \u001b[0mdata\u001b[0m \u001b[1;33m=\u001b[0m \u001b[0mpickle\u001b[0m\u001b[1;33m.\u001b[0m\u001b[0mload\u001b[0m\u001b[1;33m(\u001b[0m\u001b[0mf\u001b[0m\u001b[1;33m)\u001b[0m\u001b[1;33m\u001b[0m\u001b[0m\n\u001b[1;32m      7\u001b[0m \u001b[1;33m\u001b[0m\u001b[0m\n\u001b[0;32m----> 8\u001b[0;31m \u001b[0mreviews\u001b[0m \u001b[1;33m=\u001b[0m \u001b[1;33m[\u001b[0m\u001b[0mdatum\u001b[0m\u001b[1;33m[\u001b[0m\u001b[1;34m'comment'\u001b[0m\u001b[1;33m]\u001b[0m \u001b[1;32mfor\u001b[0m \u001b[0mdatum\u001b[0m \u001b[1;32min\u001b[0m \u001b[0mdata\u001b[0m\u001b[1;33m]\u001b[0m\u001b[1;33m\u001b[0m\u001b[0m\n\u001b[0m\u001b[1;32m      9\u001b[0m \u001b[0msatisfaction_ratings\u001b[0m \u001b[1;33m=\u001b[0m \u001b[1;33m[\u001b[0m\u001b[0mdatum\u001b[0m\u001b[1;33m[\u001b[0m\u001b[1;34m'satisfaction'\u001b[0m\u001b[1;33m]\u001b[0m \u001b[1;32mfor\u001b[0m \u001b[0mdatum\u001b[0m \u001b[1;32min\u001b[0m \u001b[0mdata\u001b[0m\u001b[1;33m]\u001b[0m\u001b[1;33m\u001b[0m\u001b[0m\n",
      "\u001b[0;31mTypeError\u001b[0m: 'review' object is not subscriptable"
     ]
    }
   ],
   "source": [
    "# This cell just sets up some data to use.\n",
    "import pickle\n",
    "from drugSite_scrapers3 import drug, review as drug, review\n",
    "\n",
    "with open('drug_list_ddc2.p', 'rb') as f:\n",
    "    data = pickle.load(f)"
   ]
  },
  {
   "cell_type": "code",
   "execution_count": 17,
   "metadata": {
    "collapsed": true
   },
   "outputs": [],
   "source": [
    "from textblob import TextBlob"
   ]
  },
  {
   "cell_type": "code",
   "execution_count": 22,
   "metadata": {
    "collapsed": false
   },
   "outputs": [],
   "source": [
    "test = TextBlob(data[0]['comment'])"
   ]
  },
  {
   "cell_type": "code",
   "execution_count": 24,
   "metadata": {
    "collapsed": false
   },
   "outputs": [
    {
     "data": {
      "text/plain": [
       "Sentiment(polarity=-0.5, subjectivity=0.5)"
      ]
     },
     "execution_count": 24,
     "metadata": {},
     "output_type": "execute_result"
    }
   ],
   "source": [
    "test.sentiment"
   ]
  },
  {
   "cell_type": "code",
   "execution_count": 20,
   "metadata": {
    "collapsed": false
   },
   "outputs": [
    {
     "name": "stdout",
     "output_type": "stream",
     "text": [
      "Terrible made me clench my teeth and rock back & forth. Two yrs later I still do it. Terrible side effects for me. not recommended by me.\n"
     ]
    }
   ],
   "source": [
    "print(data[0]['comment'])"
   ]
  },
  {
   "cell_type": "code",
   "execution_count": 38,
   "metadata": {
    "collapsed": false
   },
   "outputs": [
    {
     "name": "stdout",
     "output_type": "stream",
     "text": [
      "C:\\Users\\comra_000\\Anaconda3\\python.exe\n",
      "\n",
      "['', 'C:\\\\Users\\\\comra_000\\\\Anaconda3\\\\python36.zip', 'C:\\\\Users\\\\comra_000\\\\Anaconda3\\\\DLLs', 'C:\\\\Users\\\\comra_000\\\\Anaconda3\\\\lib', 'C:\\\\Users\\\\comra_000\\\\Anaconda3', 'C:\\\\Users\\\\comra_000\\\\Anaconda3\\\\lib\\\\site-packages', 'C:\\\\Users\\\\comra_000\\\\Anaconda3\\\\lib\\\\site-packages\\\\Sphinx-1.5.1-py3.6.egg', 'C:\\\\Users\\\\comra_000\\\\Anaconda3\\\\lib\\\\site-packages\\\\win32', 'C:\\\\Users\\\\comra_000\\\\Anaconda3\\\\lib\\\\site-packages\\\\win32\\\\lib', 'C:\\\\Users\\\\comra_000\\\\Anaconda3\\\\lib\\\\site-packages\\\\Pythonwin', 'C:\\\\Users\\\\comra_000\\\\Anaconda3\\\\lib\\\\site-packages\\\\setuptools-27.2.0-py3.6.egg', 'C:\\\\Users\\\\comra_000\\\\Anaconda3\\\\lib\\\\site-packages\\\\IPython\\\\extensions', 'C:\\\\Users\\\\comra_000\\\\.ipython']\n"
     ]
    }
   ],
   "source": [
    "import sys\n",
    "print(sys.executable)\n",
    "print()\n",
    "print(sys.path)"
   ]
  },
  {
   "cell_type": "code",
   "execution_count": 39,
   "metadata": {
    "collapsed": false
   },
   "outputs": [
    {
     "name": "stdout",
     "output_type": "stream",
     "text": [
      "Terrible made me clench my teeth and rock back & forth. Two yrs later I still do it. Terrible side effects for me. not recommended by me.\n",
      "\n",
      "I was put on abilify for depression along with Lexapro.  At first there was no side affects.  Then after about 2 years I gained about 90 pounds.  Also my right hand began to shake.  But the worst thing was not being able to control my bowel movements.  The thing is I did not realize it was the abilify causing these problems.  The way I figured out the cause was I ran out of abilify and was off it for about a week.  I started regaining control of my bowels (this is one thing they don't list as a side affect).  That had to be the most embarrassing period of my life.  Since I quit taking the drug I lost 80 pounds and my hand stopped shaking.  But best of all I have control of my bowels.  They say the drug has different affects on people but it's not the drug for me.  To those that it helped I say hurrah but I've read more negative comments than positive.\n",
      "\n",
      "I have suffered with chronic depression for most of my life. I have tried almost every antidepressant out there with varying degrees of success. I currently take 90 mgs of Cymbalta every day. While it is somewhat effective for me I still suffered greatly from nagging depression. It wasn't until my psychiatrist added Abilify that I experienced almost complete relief of my depression. Within two weeks I was feeling better than I have in many years. The feelings of sadness are gone and I wake up feeling ready to face the day. It has helped me tremendously. For me, this drug has worked miracles I never thought possible. \n",
      "\n",
      "This medication (as an add on to Citalopram) makes me want to get up early every day and be productive.  I feel happier than I ever thought possible with the addition of this med (having dealt with minor chronic depression for most of my adult life).\n",
      "\n",
      "I used to be extremely impatient, irritable and had frequent anger bursts.\n",
      "After I started Abilify 5mg together with Bupropion 300mg I radically changed. Now I am extremely patient, but I miss my old self as a go-getter. Anyway my family is thankful I am under treatment so I can manage my life more wisely.\n",
      "\n",
      "adding this to my treatment helped me greatly.\n",
      "\n",
      "Stay tired all the time. Drool. \n",
      "\n",
      "When I took the medication, after a few months, I turned bright red like a pickled beet and I had a heart rate of about 200.  Overall, it almost killed me.\n",
      "\n",
      "Lifesaver for me.\n",
      "\n",
      "It is effective but I have gained weight with it and want to get off of it.\n",
      "\n"
     ]
    }
   ],
   "source": [
    "blobs = []\n",
    "\n",
    "for review in reviews[:10]:\n",
    "    print(review)\n",
    "    print()\n",
    "    blobs.append(TextBlob(review))"
   ]
  },
  {
   "cell_type": "code",
   "execution_count": 41,
   "metadata": {
    "collapsed": false
   },
   "outputs": [
    {
     "name": "stdout",
     "output_type": "stream",
     "text": [
      "Sentiment(polarity=-0.5, subjectivity=0.5)\n",
      "\n",
      "Sentiment(polarity=0.19629870129870128, subjectivity=0.5339502164502165)\n",
      "\n",
      "Sentiment(polarity=0.38611111111111107, subjectivity=0.6041666666666666)\n",
      "\n",
      "Sentiment(polarity=0.13, subjectivity=0.45999999999999996)\n",
      "\n",
      "Sentiment(polarity=0.05357142857142857, subjectivity=0.5714285714285714)\n",
      "\n",
      "Sentiment(polarity=0.8, subjectivity=0.75)\n",
      "\n",
      "Sentiment(polarity=-0.4, subjectivity=0.7)\n",
      "\n",
      "Sentiment(polarity=0.06, subjectivity=0.18)\n",
      "\n",
      "Sentiment(polarity=0.0, subjectivity=0.0)\n",
      "\n",
      "Sentiment(polarity=0.6, subjectivity=0.8)\n",
      "\n"
     ]
    }
   ],
   "source": [
    "for blob in blobs:\n",
    "    print(blob.sentiment)\n",
    "    print()"
   ]
  },
  {
   "cell_type": "code",
   "execution_count": 4,
   "metadata": {
    "collapsed": false
   },
   "outputs": [
    {
     "data": {
      "text/plain": [
       "[1, 1, 5, 5, 5, 5, 1, 1, 5, 3]"
      ]
     },
     "execution_count": 4,
     "metadata": {},
     "output_type": "execute_result"
    }
   ],
   "source": [
    "satisfaction_ratings[:10]"
   ]
  },
  {
   "cell_type": "code",
   "execution_count": 5,
   "metadata": {
    "collapsed": false
   },
   "outputs": [
    {
     "data": {
      "text/plain": [
       "705"
      ]
     },
     "execution_count": 5,
     "metadata": {},
     "output_type": "execute_result"
    }
   ],
   "source": [
    "len(reviews)"
   ]
  },
  {
   "cell_type": "code",
   "execution_count": 6,
   "metadata": {
    "collapsed": false
   },
   "outputs": [],
   "source": [
    "from sklearn.feature_extraction.text import CountVectorizer\n",
    "count_vect = CountVectorizer(stop_words='english', min_df = 2, lowercase=True, ngram_range=(1,2))\n",
    "X_train_counts = count_vect.fit_transform(reviews)\n",
    "#min_df - a word has to occur in (x) documents to be considered a feature"
   ]
  },
  {
   "cell_type": "code",
   "execution_count": 7,
   "metadata": {
    "collapsed": false
   },
   "outputs": [
    {
     "data": {
      "text/plain": [
       "2831"
      ]
     },
     "execution_count": 7,
     "metadata": {},
     "output_type": "execute_result"
    }
   ],
   "source": [
    "len(count_vect.vocabulary_)"
   ]
  },
  {
   "cell_type": "code",
   "execution_count": 8,
   "metadata": {
    "collapsed": false
   },
   "outputs": [
    {
     "data": {
      "text/plain": [
       "<1x2831 sparse matrix of type '<class 'numpy.int64'>'\n",
       "\twith 6 stored elements in Compressed Sparse Row format>"
      ]
     },
     "execution_count": 8,
     "metadata": {},
     "output_type": "execute_result"
    }
   ],
   "source": [
    "X_train_counts[0]"
   ]
  },
  {
   "cell_type": "markdown",
   "metadata": {},
   "source": [
    "because text data is high dimensional and sparse, a given word probably doesn't exist in a given document\n",
    "\n",
    "NB about sparse matricies: doesn't store 0s, just saves value and location and assumes everything else is 0\n",
    "**occasionally this fails and the algorithm doen't play well with sparse matricies"
   ]
  },
  {
   "cell_type": "code",
   "execution_count": 9,
   "metadata": {
    "collapsed": false
   },
   "outputs": [],
   "source": [
    "from sklearn.feature_extraction.text import TfidfTransformer\n",
    "\n",
    "transformer = TfidfTransformer()\n",
    "X_train_tfidf = transformer.fit_transform(X_train_counts)"
   ]
  },
  {
   "cell_type": "markdown",
   "metadata": {},
   "source": [
    "TF-IDF = Term frequency times inverse document frequency\n",
    "\n",
    "term frequency = frequency of a word in a given document \n",
    "\n",
    "inverse document frequency = percent of documents the word occurs in \n",
    "\n",
    "gives higher weights to infrequently occuring words"
   ]
  },
  {
   "cell_type": "code",
   "execution_count": 10,
   "metadata": {
    "collapsed": false
   },
   "outputs": [
    {
     "name": "stdout",
     "output_type": "stream",
     "text": [
      "  (0, 2465)\t0.648544967256\n",
      "  (0, 2818)\t0.324272483628\n",
      "  (0, 1475)\t0.319461115508\n",
      "  (0, 920)\t0.188646037496\n",
      "  (0, 2071)\t0.400795196495\n",
      "  (0, 2819)\t0.419472598021\n",
      "  (1, 139)\t0.120911521184\n",
      "  (1, 694)\t0.04734921795\n",
      "  (1, 1508)\t0.0926364780062\n",
      "  (1, 269)\t0.224565730471\n",
      "  (1, 2792)\t0.0606429065346\n",
      "  (1, 1140)\t0.0662752751989\n",
      "  (1, 133)\t0.117545127139\n",
      "  (1, 1958)\t0.160055106797\n",
      "  (1, 2121)\t0.0838451765612\n",
      "  (1, 1230)\t0.212518205619\n",
      "  (1, 396)\t0.0977690865135\n",
      "  (1, 2191)\t0.129262897828\n",
      "  (1, 2775)\t0.101586709676\n",
      "  (1, 2476)\t0.267837210652\n",
      "  (1, 209)\t0.0850772352367\n",
      "  (1, 581)\t0.296897772178\n",
      "  (1, 1784)\t0.112282865236\n",
      "  (1, 748)\t0.0718725675552\n",
      "  (1, 2047)\t0.124590504694\n",
      "  :\t:\n",
      "  (704, 452)\t0.120529340715\n",
      "  (704, 1778)\t0.134237160689\n",
      "  (704, 733)\t0.12877124694\n",
      "  (704, 1622)\t0.141283949118\n",
      "  (704, 734)\t0.145749925833\n",
      "  (704, 2829)\t0.12877124694\n",
      "  (704, 19)\t0.151215839582\n",
      "  (704, 385)\t0.141283949118\n",
      "  (704, 201)\t0.158262628011\n",
      "  (704, 1164)\t0.158262628011\n",
      "  (704, 499)\t0.158262628011\n",
      "  (704, 1304)\t0.137508019608\n",
      "  (704, 2113)\t0.145749925833\n",
      "  (704, 356)\t0.158262628011\n",
      "  (704, 563)\t0.145749925833\n",
      "  (704, 198)\t0.145749925833\n",
      "  (704, 1903)\t0.158262628011\n",
      "  (704, 692)\t0.151215839582\n",
      "  (704, 2710)\t0.151215839582\n",
      "  (704, 509)\t0.145749925833\n",
      "  (704, 2088)\t0.151215839582\n",
      "  (704, 2433)\t0.151215839582\n",
      "  (704, 2721)\t0.158262628011\n",
      "  (704, 1647)\t0.151215839582\n",
      "  (704, 2000)\t0.158262628011\n"
     ]
    }
   ],
   "source": [
    "print(X_train_tfidf)\n",
    "#prints the location in the sparse matrix and the tfidf score"
   ]
  },
  {
   "cell_type": "code",
   "execution_count": 11,
   "metadata": {
    "collapsed": false
   },
   "outputs": [],
   "source": [
    "# Classification\n",
    "    from sklearn.model_selection import cross_val_score, KFold\n",
    "from sklearn.tree import DecisionTreeClassifier\n",
    "from sklearn.ensemble import RandomForestClassifier\n",
    "from sklearn.linear_model import LogisticRegression\n",
    "from sklearn.naive_bayes import MultinomialNB\n",
    "\n",
    "# Regression\n",
    "from sklearn.svm import SVR\n"
   ]
  },
  {
   "cell_type": "code",
   "execution_count": 12,
   "metadata": {
    "collapsed": false
   },
   "outputs": [
    {
     "name": "stdout",
     "output_type": "stream",
     "text": [
      "705\n"
     ]
    }
   ],
   "source": [
    "X_train_tfidf_dense = X_train_tfidf.toarray()\n",
    "print(len(X_train_tfidf_dense))"
   ]
  },
  {
   "cell_type": "code",
   "execution_count": 13,
   "metadata": {
    "collapsed": false
   },
   "outputs": [],
   "source": [
    "models = []\n",
    "models.append(('DTree', DecisionTreeClassifier()))\n",
    "models.append(('RandForest', RandomForestClassifier(n_estimators = 10)))\n",
    "models.append(('LogReg', LogisticRegression()))\n",
    "models.append(('NaiveBayes', MultinomialNB()))"
   ]
  },
  {
   "cell_type": "code",
   "execution_count": 14,
   "metadata": {
    "collapsed": false
   },
   "outputs": [
    {
     "name": "stdout",
     "output_type": "stream",
     "text": [
      "DTree: 0.362837 (0.050343)\n",
      "RandForest: 0.416801 (0.054316)\n",
      "LogReg: 0.480584 (0.056945)\n",
      "NaiveBayes: 0.477767 (0.055140)\n"
     ]
    }
   ],
   "source": [
    "results = []\n",
    "names = []\n",
    "for name, model in models:\n",
    "    kfold = KFold(n_splits=10, random_state = 8)\n",
    "    cv_results = cross_val_score(model, X_train_tfidf_dense, satisfaction_ratings, cv=kfold, scoring='accuracy')\n",
    "    results.append(cv_results)\n",
    "    names.append(name)\n",
    "    msg = \"%s: %f (%f)\" % (name, cv_results.mean(), cv_results.std())\n",
    "    print(msg)"
   ]
  },
  {
   "cell_type": "code",
   "execution_count": 15,
   "metadata": {
    "collapsed": false
   },
   "outputs": [
    {
     "data": {
      "text/plain": [
       "[array([ 0.3943662 ,  0.3943662 ,  0.4084507 ,  0.45070423,  0.36619718,\n",
       "         0.27142857,  0.37142857,  0.31428571,  0.31428571,  0.34285714]),\n",
       " array([ 0.45070423,  0.3943662 ,  0.50704225,  0.49295775,  0.3943662 ,\n",
       "         0.41428571,  0.41428571,  0.32857143,  0.34285714,  0.42857143]),\n",
       " array([ 0.57746479,  0.47887324,  0.56338028,  0.45070423,  0.52112676,\n",
       "         0.45714286,  0.37142857,  0.45714286,  0.47142857,  0.45714286]),\n",
       " array([ 0.5915493 ,  0.46478873,  0.54929577,  0.45070423,  0.50704225,\n",
       "         0.44285714,  0.38571429,  0.47142857,  0.45714286,  0.45714286])]"
      ]
     },
     "execution_count": 15,
     "metadata": {},
     "output_type": "execute_result"
    }
   ],
   "source": [
    "results"
   ]
  },
  {
   "cell_type": "markdown",
   "metadata": {},
   "source": [
    "Results are not so great, but at least they're better than what we would expect by sheer guessing (0.20, or 1/5, picking a random star). Values above represent the average accuracy (I think?) of each test run when trained on a subset of the dataset: see https://en.wikipedia.org/wiki/Cross-validation_(statistics)#k-fold_cross-validation"
   ]
  },
  {
   "cell_type": "code",
   "execution_count": 16,
   "metadata": {
    "collapsed": false
   },
   "outputs": [
    {
     "name": "stdout",
     "output_type": "stream",
     "text": [
      "rbf: -1.191598 (0.062649)\n",
      "linear: -1.256151 (0.040214)\n",
      "quadratic: -1.515732 (0.084087)\n"
     ]
    }
   ],
   "source": [
    "reg_models = []\n",
    "reg_models.append(('rbf', SVR(kernel='rbf', C=1e3, gamma=0.1)))\n",
    "reg_models.append(('linear', SVR(kernel='linear', C=1e3)))\n",
    "reg_models.append(('quadratic', SVR(kernel='poly', C=1e3, degree=2)))\n",
    "\n",
    "reg_results = []\n",
    "reg_names = []\n",
    "\n",
    "for name, model in reg_models:\n",
    "    kfold = KFold(n_splits=10, random_state = 8)\n",
    "    cv_results = cross_val_score(model, X_train_tfidf_dense, satisfaction_ratings, cv=kfold, scoring='neg_mean_absolute_error')\n",
    "    reg_results.append(cv_results)\n",
    "    reg_names.append(name)\n",
    "    msg = \"%s: %f (%f)\" % (name, cv_results.mean(), cv_results.std())\n",
    "    print(msg)\n"
   ]
  }
 ],
 "metadata": {
  "kernelspec": {
   "display_name": "Python 3",
   "language": "python",
   "name": "python3"
  },
  "language_info": {
   "codemirror_mode": {
    "name": "ipython",
    "version": 3
   },
   "file_extension": ".py",
   "mimetype": "text/x-python",
   "name": "python",
   "nbconvert_exporter": "python",
   "pygments_lexer": "ipython3",
   "version": "3.6.0"
  }
 },
 "nbformat": 4,
 "nbformat_minor": 0
}
