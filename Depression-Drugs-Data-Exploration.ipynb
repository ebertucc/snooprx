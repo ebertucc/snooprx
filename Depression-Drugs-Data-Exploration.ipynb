{
 "cells": [
  {
   "cell_type": "markdown",
   "metadata": {},
   "source": [
    "```\n",
    " This notebook contains summary statistics for the drugs.com depression drug reviews dataset. \n",
    " In particular, it contains the following:\n",
    "\n",
    "Summary stats:\n",
    "    - Total number of reviews\n",
    "    - Total number of reviews per rating\n",
    "    - Total number of reviews per duration\n",
    "    - Total number of unique drugs\n",
    "    - Average length of comments\n",
    "    - Average length of comments per rating\n",
    "    - Average rating\n",
    "    - Average number of upvotes\n",
    "    - Average number of upvotes per rating\n",
    "    - Highest length comment\n",
    "    - Highest upvote count review\n",
    "\n",
    "Subpopulations to look at:\n",
    "    - Reviews with comments longer than 300 characters (arbitrary number)\n",
    "    - Reviews with more than 15 upvotes (arbitrary number)\n",
    "    \n",
    "Relationships of interest\n",
    "    - Length of review vs number of upvotes\n",
    "    - Length of review vs rating\n",
    "    - Upvotes vs time a review has been up (current date minus review date)\n",
    "      (so we can see upvotes per review \"duration\", essentially)\n",
    "```"
   ]
  },
  {
   "cell_type": "code",
   "execution_count": 22,
   "metadata": {
    "collapsed": true
   },
   "outputs": [],
   "source": [
    "import pandas as pd\n",
    "import numpy as np\n",
    "from sklearn.feature_extraction.text import CountVectorizer, TfidfVectorizer\n",
    "%matplotlib inline"
   ]
  },
  {
   "cell_type": "code",
   "execution_count": 20,
   "metadata": {
    "collapsed": false,
    "scrolled": true
   },
   "outputs": [],
   "source": [
    "df = pd.read_csv('./data/ddc_depression_drug_reviews.csv')\n",
    "df = df[pd.notnull(df['genRating'])] #bye bye non-rated reviews!\n",
    "df['comment length'] = df['comment'].apply(lambda x: len(x)) #let's look at this, too"
   ]
  },
  {
   "cell_type": "code",
   "execution_count": 3,
   "metadata": {
    "collapsed": false,
    "scrolled": false
   },
   "outputs": [
    {
     "data": {
      "text/html": [
       "<div>\n",
       "<table border=\"1\" class=\"dataframe\">\n",
       "  <thead>\n",
       "    <tr style=\"text-align: right;\">\n",
       "      <th></th>\n",
       "      <th>genRating</th>\n",
       "      <th>upVotes</th>\n",
       "      <th>comment length</th>\n",
       "    </tr>\n",
       "  </thead>\n",
       "  <tbody>\n",
       "    <tr>\n",
       "      <th>count</th>\n",
       "      <td>8479.000000</td>\n",
       "      <td>8479.000000</td>\n",
       "      <td>8479.000000</td>\n",
       "    </tr>\n",
       "    <tr>\n",
       "      <th>mean</th>\n",
       "      <td>7.023470</td>\n",
       "      <td>46.272202</td>\n",
       "      <td>490.964029</td>\n",
       "    </tr>\n",
       "    <tr>\n",
       "      <th>std</th>\n",
       "      <td>3.110536</td>\n",
       "      <td>55.512270</td>\n",
       "      <td>236.728944</td>\n",
       "    </tr>\n",
       "    <tr>\n",
       "      <th>min</th>\n",
       "      <td>1.000000</td>\n",
       "      <td>0.000000</td>\n",
       "      <td>6.000000</td>\n",
       "    </tr>\n",
       "    <tr>\n",
       "      <th>25%</th>\n",
       "      <td>5.000000</td>\n",
       "      <td>15.000000</td>\n",
       "      <td>296.000000</td>\n",
       "    </tr>\n",
       "    <tr>\n",
       "      <th>50%</th>\n",
       "      <td>8.000000</td>\n",
       "      <td>29.000000</td>\n",
       "      <td>517.000000</td>\n",
       "    </tr>\n",
       "    <tr>\n",
       "      <th>75%</th>\n",
       "      <td>10.000000</td>\n",
       "      <td>59.000000</td>\n",
       "      <td>713.000000</td>\n",
       "    </tr>\n",
       "    <tr>\n",
       "      <th>max</th>\n",
       "      <td>10.000000</td>\n",
       "      <td>1291.000000</td>\n",
       "      <td>3000.000000</td>\n",
       "    </tr>\n",
       "  </tbody>\n",
       "</table>\n",
       "</div>"
      ],
      "text/plain": [
       "         genRating      upVotes  comment length\n",
       "count  8479.000000  8479.000000     8479.000000\n",
       "mean      7.023470    46.272202      490.964029\n",
       "std       3.110536    55.512270      236.728944\n",
       "min       1.000000     0.000000        6.000000\n",
       "25%       5.000000    15.000000      296.000000\n",
       "50%       8.000000    29.000000      517.000000\n",
       "75%      10.000000    59.000000      713.000000\n",
       "max      10.000000  1291.000000     3000.000000"
      ]
     },
     "execution_count": 3,
     "metadata": {},
     "output_type": "execute_result"
    }
   ],
   "source": [
    "# Summary statistics for the whole dataset\n",
    "df.describe()"
   ]
  },
  {
   "cell_type": "code",
   "execution_count": 17,
   "metadata": {
    "collapsed": false
   },
   "outputs": [
    {
     "data": {
      "text/plain": [
       "'\"•\\t19 Apr. 2016\\r\\n\\r\\nBegan initial dose at 2230 hours. Felt the medicine working within a ½ hour. Was in a good mood as I had been taken off of Warfarin this date. Before drifting off to sleep, I glanced at the clock. It was approx. 2300 hrs. I had an odd feeling in my throat that was possibly closing up. I remember worrying what is going on here? As the feeling in my throat persisted, I also felt my “Adam’s apple” fluttering and an elevated heart rate. I soon fell asleep. No other meds taken except for Atorvastatin.\\r\\n\\r\\n•\\t20 Apr. 2016  \\r\\n\\r\\nI awoke a 0600 hours to go to the bathroom. Upon arising, I felt a damp spot at the back of my underwear. Pulled the sheets back a discovered I had Shit the bed in my sleep. Felt real dizzy and drowsy. Thought to myself “how & why?” this happened. Went to shower.\\r\\n\\r\\nAs the morning continued on at 0630, the side effects were evident:\\r\\n1.\\t“Hot flashes” Absolutely miserable. Could not get / stay comfortable. Firstly, had the flushing sweats, then I would get too cold. Turning off the air conditioner and fan for about a half an hour, Becoming hot again. This has continued on and has not stopped. Extremely bad migraines as well since waking and did not let up at all. Sensitive to noise, light and sounds.\\r\\n2.\\tThe same feeling in my throat upon waking, I drank water to cool off and see if this would stop. And it didn’t.\\r\\n3.\\tMy face was tingling all over as well.\\r\\n4.\\tModerately nauseous upon standing up or sitting down. The nausea had continued all day. Had a special K cereal bar to ease this up in the morning. Having only relief from it less than an hour.\\r\\n5.\\tTried eat cereal for lunch and discovered unable to eat it at all. The taste of it was making me sicker.\\r\\n6.\\tTook two 500 mg acetaminophen at 0700, relief was only slight and the head aches returned less than two hours.\\r\\n7.\\tOverall neck pain eased up and other arthritic symptoms did as well. I could definitley tell a difference, However the head ache did not.\\r\\n\\r\\n\\r\\n8.\\tDecided to take a dosage during the morning at 1000 hrs. To avoid loss of bowel control in my sleep. Within about two hours, felt it working through my system. Same effects I mentioned as before. Severe headaches and Nausea all day. And of course unbearable hot & cold feelings again thinking that these should eventually pass as I become used to it.\\r\\n9.\\tLaid down from 1400 to 1700 to alleviate the symptoms. Awoke from the nap and tried to eat dinner. One bite made me sick to my stomach. Headaches still there. \\r\\n10.\\tOverall, felt the same until bedtime as I did all day. Will give it one more try tomorrow morning.\\r\\nDid not take any meds except Atorvastatin, and two acetaminophen.\\r\\n\\r\\n•\\t21 April 2016\\r\\n\\r\\nAwoke at 0815.  No bowel leakage. Took another dose of Duloxetine at 1000. Was able to tolerate a cereal bar.  Noticed the side effects once again and unable to have a bowel movement, within an hour of trying.  I will now stop this medication.  As I do not feel well at all and its side effects are terrible.\"'"
      ]
     },
     "execution_count": 17,
     "metadata": {},
     "output_type": "execute_result"
    }
   ],
   "source": [
    "# The longest comment\n",
    "df[df['comment length'] == 3000].values[0][0]"
   ]
  },
  {
   "cell_type": "code",
   "execution_count": 19,
   "metadata": {
    "collapsed": false
   },
   "outputs": [
    {
     "data": {
      "text/plain": [
       "'\"Good\"'"
      ]
     },
     "execution_count": 19,
     "metadata": {},
     "output_type": "execute_result"
    }
   ],
   "source": [
    "# The shortest comment\n",
    "df[df['comment length'] == 6].values[0][0]"
   ]
  },
  {
   "cell_type": "code",
   "execution_count": 5,
   "metadata": {
    "collapsed": false
   },
   "outputs": [
    {
     "data": {
      "text/plain": [
       "'\"I remember reading people\\'s opinions, online, of the drug before I took it and it scared me away from it. Then I finally decided to give it a try and it has been the best choice I have made. I have been on it for over 4 months and I feel great. I\\'m on 100mg and I don\\'t have any side effects. When I first started I did notice that my hands would tremble but then it subsided. So honestly, don\\'t listen to all the negativity because what doesn\\'t work for some works amazing for others. So go based on youself and not everyone else. It may be a blessing in diguise. The pill is not meant to make you be all happy go lucky and see \"butterflies and roses\", its meant to help put the chemicals in your mind in balance so you can just be who you are and not overly depressed. I still get sad some times, but that is normal, that is life, and it\\'s up to people to take control to make a change. I did so by getting on this pill.\"'"
      ]
     },
     "execution_count": 5,
     "metadata": {},
     "output_type": "execute_result"
    }
   ],
   "source": [
    "# The most upvoted comment\n",
    "df[df['upVotes'] == 1291].values[0][0]"
   ]
  },
  {
   "cell_type": "code",
   "execution_count": 24,
   "metadata": {
    "collapsed": false
   },
   "outputs": [
    {
     "data": {
      "text/plain": [
       "0.12133037093497469"
      ]
     },
     "execution_count": 24,
     "metadata": {},
     "output_type": "execute_result"
    }
   ],
   "source": [
    "# Not very correlated...\n",
    "df['upVotes'].corr(df['comment length'])"
   ]
  },
  {
   "cell_type": "code",
   "execution_count": 23,
   "metadata": {
    "collapsed": false
   },
   "outputs": [
    {
     "data": {
      "text/plain": [
       "<matplotlib.axes._subplots.AxesSubplot at 0x93696ba7f0>"
      ]
     },
     "execution_count": 23,
     "metadata": {},
     "output_type": "execute_result"
    },
    {
     "data": {
      "image/png": "[encoded data removed]",
      "text/plain": [
       "<matplotlib.figure.Figure at 0x93697e3cf8>"
      ]
     },
     "metadata": {},
     "output_type": "display_data"
    }
   ],
   "source": [
    "df.plot.scatter(x='comment length', y='upVotes')"
   ]
  },
  {
   "cell_type": "code",
   "execution_count": 26,
   "metadata": {
    "collapsed": false
   },
   "outputs": [
    {
     "data": {
      "text/plain": [
       "0.11667700197966514"
      ]
     },
     "execution_count": 26,
     "metadata": {},
     "output_type": "execute_result"
    }
   ],
   "source": [
    "# These aren't particularly correlated, either.\n",
    "df['genRating'].corr(df['comment length'])"
   ]
  },
  {
   "cell_type": "code",
   "execution_count": 6,
   "metadata": {
    "collapsed": true
   },
   "outputs": [],
   "source": [
    "comments = df['comment'].tolist()\n",
    "ratings = df['genRating'].tolist()"
   ]
  },
  {
   "cell_type": "code",
   "execution_count": 7,
   "metadata": {
    "collapsed": true
   },
   "outputs": [],
   "source": [
    "def get_wordcounts(text, vectorizer=None):\n",
    "    \"\"\"\n",
    "    Takes a string or list of strings and returns term frequencies for each word in\n",
    "    a vectorizer's vocabulary. If no vectorizer is passed, the vocabulary will be generated\n",
    "    from the input text's unigrams and bigrams.\n",
    "    \"\"\"\n",
    "    if vectorizer is None:\n",
    "        vectorizer = CountVectorizer(stop_words='english', min_df = 2, lowercase=True, ngram_range=(1,2))\n",
    "        vectorizer.fit(text)\n",
    "    term_counts = zip(vectorizer.get_feature_names(),\n",
    "        np.asarray(vectorizer.transform(text).sum(axis=0)).ravel())\n",
    "    return sorted(term_counts, key=lambda x: x[1], reverse=True)\n",
    "\n",
    "def get_tfidf_weights(text, vectorizer=None):\n",
    "    if vectorizer is None:\n",
    "        vectorizer = TfidfVectorizer(stop_words='english', min_df = 2, lowercase=True, ngram_range=(1,2))\n",
    "        vectorizer.fit(text)\n",
    "    tfidf_weights = zip(vectorizer.get_feature_names(),\n",
    "        np.asarray(vectorizer.transform(text).sum(axis=0)).ravel())\n",
    "    return sorted(tfidf_weights, key=lambda x: x[1], reverse=True)"
   ]
  },
  {
   "cell_type": "code",
   "execution_count": 8,
   "metadata": {
    "collapsed": false
   },
   "outputs": [],
   "source": [
    "count_vec = CountVectorizer(stop_words='english', min_df = 2, lowercase=True, ngram_range=(1,2))\n",
    "count_vec.fit(comments)\n",
    "\n",
    "tfidf_vec = TfidfVectorizer(stop_words='english', min_df = 2, lowercase=True, ngram_range=(1,2))\n",
    "tfidf_vec.fit(comments)\n",
    "\n",
    "test_counts = get_wordcounts(comments, count_vec)[:10]\n",
    "test_tfidf = get_tfidf_weights(comments, tfidf_vec)[:10]"
   ]
  },
  {
   "cell_type": "code",
   "execution_count": 16,
   "metadata": {
    "collapsed": false,
    "scrolled": false
   },
   "outputs": [
    {
     "name": "stdout",
     "output_type": "stream",
     "text": [
      "Summary stats for reviews with a rating of 1 \n",
      "\n",
      "       genRating      upVotes  comment length\n",
      "count     1000.0  1000.000000     1000.000000\n",
      "mean         1.0    22.161000      425.195000\n",
      "std          0.0    21.210256      263.101489\n",
      "min          1.0     0.000000       14.000000\n",
      "25%          1.0    11.000000      213.250000\n",
      "50%          1.0    18.000000      404.500000\n",
      "75%          1.0    27.000000      675.750000\n",
      "max          1.0   275.000000     3000.000000\n",
      "\n",
      "Top words (by tf-idf) for reviews with a rating of 1 \n",
      "\n",
      "[('drug', 20.123605083479458), ('felt', 17.034967753332761), ('worse', 17.017746993164881), ('took', 16.642837234012184), ('taking', 16.23473047022696), ('like', 15.668229624026008), ('depression', 15.537831707757682), ('day', 15.448916868572429), ('didn', 14.38619310549794), ('medication', 14.214277302763881)]\n",
      "\n",
      "Top words (by raw count) for reviews with a rating of 1 \n",
      "\n",
      "[('depression', 434), ('taking', 401), ('day', 373), ('felt', 352), ('drug', 339), ('like', 337), ('anxiety', 318), ('feel', 297), ('took', 288), ('medication', 277)]\n",
      "\n",
      "********************************************************************\n",
      "********************************************************************\n",
      "\n",
      "Summary stats for reviews with a rating of 2 \n",
      "\n",
      "       genRating     upVotes  comment length\n",
      "count      358.0  358.000000      358.000000\n",
      "mean         2.0   26.296089      462.002793\n",
      "std          0.0   20.229261      228.338666\n",
      "min          2.0    1.000000       39.000000\n",
      "25%          2.0   13.000000      272.000000\n",
      "50%          2.0   22.000000      453.500000\n",
      "75%          2.0   32.000000      668.000000\n",
      "max          2.0  113.000000     1557.000000\n",
      "\n",
      "Top words (by tf-idf) for reviews with a rating of 2 \n",
      "\n",
      "[('taking', 6.4227311316495062), ('like', 6.06090337819965), ('feel', 5.9038693525084867), ('medication', 5.8801534799795565), ('weeks', 5.7084964296997134), ('depression', 5.646228246434065), ('days', 5.4541798361718392), ('effects', 5.2767690423805753), ('didn', 5.2603818200716788), ('day', 4.9945642062587012)]\n",
      "\n",
      "Top words (by raw count) for reviews with a rating of 2 \n",
      "\n",
      "[('depression', 162), ('feel', 152), ('taking', 148), ('like', 142), ('effects', 132), ('anxiety', 129), ('weeks', 126), ('day', 123), ('medication', 123), ('started', 111)]\n",
      "\n",
      "********************************************************************\n",
      "********************************************************************\n",
      "\n",
      "Summary stats for reviews with a rating of 3 \n",
      "\n",
      "       genRating     upVotes  comment length\n",
      "count      311.0  311.000000      311.000000\n",
      "mean         3.0   22.299035      430.337621\n",
      "std          0.0   20.611396      225.842220\n",
      "min          3.0    0.000000       26.000000\n",
      "25%          3.0    8.000000      239.000000\n",
      "50%          3.0   18.000000      390.000000\n",
      "75%          3.0   29.000000      663.500000\n",
      "max          3.0  190.000000      814.000000\n",
      "\n",
      "Top words (by tf-idf) for reviews with a rating of 3 \n",
      "\n",
      "[('taking', 6.8245008132796894), ('depression', 5.5155031296089909), ('started', 5.1854188247647075), ('effects', 4.8790420832021564), ('ve', 4.7961934850046202), ('just', 4.7262803315188675), ('feel', 4.7169533355392961), ('months', 4.54743211668002), ('medication', 4.4565327722998012), ('felt', 4.4369293853418181)]\n",
      "\n",
      "Top words (by raw count) for reviews with a rating of 3 \n",
      "\n",
      "[('taking', 159), ('depression', 152), ('effects', 121), ('feel', 114), ('started', 111), ('just', 98), ('day', 97), ('anxiety', 95), ('ve', 93), ('felt', 92)]\n",
      "\n",
      "********************************************************************\n",
      "********************************************************************\n",
      "\n",
      "Summary stats for reviews with a rating of 4 \n",
      "\n",
      "       genRating     upVotes  comment length\n",
      "count      263.0  263.000000      263.000000\n",
      "mean         4.0   23.984791      471.114068\n",
      "std          0.0   29.870582      211.427830\n",
      "min          4.0    0.000000       31.000000\n",
      "25%          4.0    8.000000      296.500000\n",
      "50%          4.0   16.000000      468.000000\n",
      "75%          4.0   30.500000      694.000000\n",
      "max          4.0  371.000000      764.000000\n",
      "\n",
      "Top words (by tf-idf) for reviews with a rating of 4 \n",
      "\n",
      "[('started', 5.8287982430886531), ('taking', 4.8585135741961478), ('depression', 4.7555598146479516), ('really', 4.2336155718188104), ('just', 4.2289925910395194), ('weeks', 4.1305153560319079), ('effects', 4.1217323388804621), ('day', 4.0356864819738494), ('feel', 3.7373957445753643), ('like', 3.6573250738784138)]\n",
      "\n",
      "Top words (by raw count) for reviews with a rating of 4 \n",
      "\n",
      "[('depression', 144), ('started', 138), ('taking', 118), ('effects', 105), ('feel', 100), ('day', 97), ('just', 92), ('like', 88), ('really', 82), ('weeks', 82)]\n",
      "\n",
      "********************************************************************\n",
      "********************************************************************\n",
      "\n",
      "Summary stats for reviews with a rating of 5 \n",
      "\n",
      "       genRating     upVotes  comment length\n",
      "count      372.0  372.000000      372.000000\n",
      "mean         5.0   22.454301      476.438172\n",
      "std          0.0   22.240066      224.828210\n",
      "min          5.0    0.000000       27.000000\n",
      "25%          5.0    8.750000      270.000000\n",
      "50%          5.0   16.500000      512.000000\n",
      "75%          5.0   27.000000      702.000000\n",
      "max          5.0  149.000000      766.000000\n",
      "\n",
      "Top words (by tf-idf) for reviews with a rating of 5 \n",
      "\n",
      "[('depression', 7.175347106925674), ('ve', 7.1576170019446366), ('taking', 6.7922967862045072), ('feel', 6.497745635535237), ('just', 6.3495805019659164), ('effects', 6.1726929542690367), ('day', 5.8569055123219167), ('weeks', 5.8524807328883881), ('anxiety', 5.8358065857599426), ('medication', 5.2946753626152985)]\n",
      "\n",
      "Top words (by raw count) for reviews with a rating of 5 \n",
      "\n",
      "[('depression', 225), ('taking', 162), ('ve', 159), ('effects', 158), ('feel', 157), ('anxiety', 148), ('just', 139), ('day', 134), ('weeks', 131), ('started', 118)]\n",
      "\n",
      "********************************************************************\n",
      "********************************************************************\n",
      "\n",
      "Summary stats for reviews with a rating of 6 \n",
      "\n",
      "       genRating     upVotes  comment length\n",
      "count      419.0  419.000000      419.000000\n",
      "mean         6.0   27.491647      473.522673\n",
      "std          0.0   24.018669      223.696429\n",
      "min          6.0    0.000000       39.000000\n",
      "25%          6.0   12.000000      282.500000\n",
      "50%          6.0   21.000000      485.000000\n",
      "75%          6.0   36.000000      699.000000\n",
      "max          6.0  203.000000      780.000000\n",
      "\n",
      "Top words (by tf-idf) for reviews with a rating of 6 \n",
      "\n",
      "[('taking', 8.8465434047717526), ('feel', 8.3898936484282736), ('depression', 8.3676363780840077), ('months', 7.9220997286974955), ('effects', 6.7553763913739635), ('medication', 6.7187292030933117), ('day', 6.686768561085338), ('just', 6.6743308088752853), ('ve', 6.3651102300091367), ('started', 5.9511274873694857)]\n",
      "\n",
      "Top words (by raw count) for reviews with a rating of 6 \n",
      "\n",
      "[('depression', 256), ('feel', 229), ('taking', 221), ('effects', 175), ('months', 174), ('day', 162), ('just', 153), ('anxiety', 144), ('started', 142), ('like', 141)]\n",
      "\n",
      "********************************************************************\n",
      "********************************************************************\n",
      "\n",
      "Summary stats for reviews with a rating of 7 \n",
      "\n",
      "       genRating     upVotes  comment length\n",
      "count      671.0  671.000000      671.000000\n",
      "mean         7.0   33.998510      504.260805\n",
      "std          0.0   35.495322      225.139537\n",
      "min          7.0    0.000000        7.000000\n",
      "25%          7.0   13.000000      301.000000\n",
      "50%          7.0   23.000000      558.000000\n",
      "75%          7.0   41.000000      710.500000\n",
      "max          7.0  289.000000     1306.000000\n",
      "\n",
      "Top words (by tf-idf) for reviews with a rating of 7 \n",
      "\n",
      "[('depression', 15.478346137977553), ('taking', 15.102362684953116), ('feel', 13.225527845780139), ('effects', 12.791406480287657), ('day', 12.123631236999016), ('anxiety', 11.926708556642371), ('started', 10.695486494671146), ('ve', 10.076377488398556), ('mg', 9.9352143409649258), ('time', 9.3023666526002309)]\n",
      "\n",
      "Top words (by raw count) for reviews with a rating of 7 \n",
      "\n",
      "[('depression', 469), ('taking', 385), ('feel', 367), ('effects', 325), ('anxiety', 316), ('day', 289), ('started', 257), ('ve', 235), ('time', 227), ('like', 211)]\n",
      "\n",
      "********************************************************************\n",
      "********************************************************************\n",
      "\n",
      "Summary stats for reviews with a rating of 8 \n",
      "\n",
      "       genRating      upVotes  comment length\n",
      "count     1209.0  1209.000000     1209.000000\n",
      "mean         8.0    45.331679      528.911497\n",
      "std          0.0    46.607083      224.063525\n",
      "min          8.0     0.000000       14.000000\n",
      "25%          8.0    15.000000      365.000000\n",
      "50%          8.0    32.000000      580.000000\n",
      "75%          8.0    62.000000      727.000000\n",
      "max          8.0   426.000000     1913.000000\n",
      "\n",
      "Top words (by tf-idf) for reviews with a rating of 8 \n",
      "\n",
      "[('depression', 26.172281044587628), ('effects', 23.559973830147374), ('feel', 22.772184704234917), ('taking', 22.601778646172434), ('anxiety', 21.673972680579542), ('ve', 19.635313468616435), ('years', 19.132439873144556), ('better', 18.61438881017509), ('weeks', 18.456194788909148), ('started', 17.669654491648345)]\n",
      "\n",
      "Top words (by raw count) for reviews with a rating of 8 \n",
      "\n",
      "[('depression', 840), ('effects', 645), ('feel', 640), ('taking', 601), ('anxiety', 577), ('years', 466), ('started', 455), ('ve', 439), ('weeks', 439), ('day', 437)]\n",
      "\n",
      "********************************************************************\n",
      "********************************************************************\n",
      "\n",
      "Summary stats for reviews with a rating of 9 \n",
      "\n",
      "       genRating      upVotes  comment length\n",
      "count     1652.0  1652.000000     1652.000000\n",
      "mean         9.0    58.834140      519.721550\n",
      "std          0.0    68.263033      237.398716\n",
      "min          9.0     0.000000       18.000000\n",
      "25%          9.0    22.000000      352.000000\n",
      "50%          9.0    39.500000      561.000000\n",
      "75%          9.0    72.000000      724.000000\n",
      "max          9.0   949.000000     2599.000000\n",
      "\n",
      "Top words (by tf-idf) for reviews with a rating of 9 \n",
      "\n",
      "[('depression', 37.742014578039793), ('feel', 37.526795380288824), ('life', 31.789612757572417), ('anxiety', 31.773059120269426), ('effects', 29.90147329455063), ('years', 28.97191011159741), ('ve', 28.12885525324868), ('taking', 25.556117239132103), ('like', 25.24479085493283), ('better', 24.409523691659611)]\n",
      "\n",
      "Top words (by raw count) for reviews with a rating of 9 \n",
      "\n",
      "[('depression', 1181), ('feel', 1005), ('anxiety', 832), ('effects', 778), ('life', 753), ('years', 699), ('taking', 686), ('like', 626), ('ve', 612), ('started', 610)]\n",
      "\n",
      "********************************************************************\n",
      "********************************************************************\n",
      "\n",
      "Summary stats for reviews with a rating of 10 \n",
      "\n",
      "       genRating      upVotes  comment length\n",
      "count     2224.0  2224.000000     2224.000000\n",
      "mean        10.0    68.722572      495.737410\n",
      "std          0.0    69.386197      235.360493\n",
      "min         10.0     0.000000        6.000000\n",
      "25%         10.0    26.000000      302.000000\n",
      "50%         10.0    50.000000      522.500000\n",
      "75%         10.0    90.000000      721.000000\n",
      "max         10.0  1291.000000     1839.000000\n",
      "\n",
      "Top words (by tf-idf) for reviews with a rating of 10 \n",
      "\n",
      "[('life', 59.646858864789841), ('depression', 53.135013944931877), ('feel', 45.496154101519316), ('years', 44.138555664769058), ('anxiety', 39.27708292736564), ('effects', 36.105888512767571), ('day', 35.435371422195708), ('taking', 34.484882352982495), ('like', 33.576279387455315), ('better', 32.889878299920234)]\n",
      "\n",
      "Top words (by raw count) for reviews with a rating of 10 \n",
      "\n",
      "[('depression', 1606), ('life', 1359), ('feel', 1224), ('years', 1033), ('anxiety', 1022), ('effects', 912), ('taking', 886), ('day', 837), ('like', 831), ('started', 720)]\n",
      "\n",
      "********************************************************************\n",
      "********************************************************************\n",
      "\n"
     ]
    }
   ],
   "source": [
    "for x in range(1,11):\n",
    "    df_slice = df[df['genRating'] == x]\n",
    "    print('Summary stats for reviews with a rating of {} \\n'.format(x))\n",
    "    print(df_slice.describe())\n",
    "    print()\n",
    "    coms = df_slice['comment'].tolist()\n",
    "    top_words_tfidf = get_tfidf_weights(coms, tfidf_vec)[:10]\n",
    "    print('Top words (by tf-idf) for reviews with a rating of {} \\n'.format(x))\n",
    "    print(str(top_words_tfidf))\n",
    "    print()\n",
    "    top_words = get_wordcounts(coms, count_vec)[:10]\n",
    "    print('Top words (by raw count) for reviews with a rating of {} \\n'.format(x))\n",
    "    print(str(top_words))\n",
    "    print()\n",
    "    print('********************************************************************')\n",
    "    print('********************************************************************')\n",
    "    print()"
   ]
  }
 ],
 "metadata": {
  "kernelspec": {
   "display_name": "Python 3",
   "language": "python",
   "name": "python3"
  },
  "language_info": {
   "codemirror_mode": {
    "name": "ipython",
    "version": 3
   },
   "file_extension": ".py",
   "mimetype": "text/x-python",
   "name": "python",
   "nbconvert_exporter": "python",
   "pygments_lexer": "ipython3",
   "version": "3.6.0"
  }
 },
 "nbformat": 4,
 "nbformat_minor": 2
}
